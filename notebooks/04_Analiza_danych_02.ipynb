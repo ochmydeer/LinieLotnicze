{
 "cells": [
  {
   "cell_type": "markdown",
   "metadata": {},
   "source": [
    " # Opis notatnika\n",
    " Analiza eksplotacyjna zbioru danych"
   ]
  },
  {
   "cell_type": "code",
   "execution_count": 1,
   "metadata": {},
   "outputs": [],
   "source": [
    "import pandas as pd\n",
    "import psycopg2\n",
    "import matplotlib as plt\n",
    "import matplotlib.pyplot as plt\n",
    "\n",
    "from sqlalchemy import create_engine"
   ]
  },
  {
   "cell_type": "code",
   "execution_count": 2,
   "metadata": {},
   "outputs": [
    {
     "name": "stdout",
     "output_type": "stream",
     "text": [
      "Połączenie z bazą danych udane!\n"
     ]
    }
   ],
   "source": [
    "username = ''\n",
    "password = ''\n",
    "\n",
    "host = 'localhost'\n",
    "database = 'airlines'\n",
    "port = 5432\n",
    "\n",
    "try:\n",
    "    con = psycopg2.connect(user=username, password=password, host=host, database=database)\n",
    "    cursor = con.cursor()\n",
    "    print(\"Połączenie z bazą danych udane!\")\n",
    "except psycopg2.Error as e:\n",
    "    print(f\"Błąd połączenia: {e}\")"
   ]
  },
  {
   "cell_type": "code",
   "execution_count": 3,
   "metadata": {},
   "outputs": [],
   "source": [
    "url = f\"postgresql://{username}:{password}@{host}:{port}/{database}\"\n",
    "engine = create_engine(url)"
   ]
  },
  {
   "cell_type": "markdown",
   "metadata": {},
   "source": [
    " Implementacja metody `read_sql_table`"
   ]
  },
  {
   "cell_type": "code",
   "execution_count": 4,
   "metadata": {},
   "outputs": [],
   "source": [
    "def read_sql_table(table_name):\n",
    "    df = pd.read_sql(table_name, con = engine)\n",
    "    return df"
   ]
  },
  {
   "cell_type": "code",
   "execution_count": 5,
   "metadata": {},
   "outputs": [
    {
     "data": {
      "text/html": [
       "<div>\n",
       "<style scoped>\n",
       "    .dataframe tbody tr th:only-of-type {\n",
       "        vertical-align: middle;\n",
       "    }\n",
       "\n",
       "    .dataframe tbody tr th {\n",
       "        vertical-align: top;\n",
       "    }\n",
       "\n",
       "    .dataframe thead th {\n",
       "        text-align: right;\n",
       "    }\n",
       "</style>\n",
       "<table border=\"1\" class=\"dataframe\">\n",
       "  <thead>\n",
       "    <tr style=\"text-align: right;\">\n",
       "      <th></th>\n",
       "      <th>id</th>\n",
       "      <th>month</th>\n",
       "      <th>day_of_month</th>\n",
       "      <th>day_of_week</th>\n",
       "      <th>op_unique_carrier</th>\n",
       "      <th>tail_num</th>\n",
       "      <th>op_carrier_fl_num</th>\n",
       "      <th>origin_airport_id</th>\n",
       "      <th>dest_airport_id</th>\n",
       "      <th>crs_dep_time</th>\n",
       "      <th>...</th>\n",
       "      <th>distance_group</th>\n",
       "      <th>carrier_delay</th>\n",
       "      <th>weather_delay</th>\n",
       "      <th>nas_delay</th>\n",
       "      <th>security_delay</th>\n",
       "      <th>late_aircraft_delay</th>\n",
       "      <th>year</th>\n",
       "      <th>is_delayed</th>\n",
       "      <th>is_weekend</th>\n",
       "      <th>distance_agg</th>\n",
       "    </tr>\n",
       "  </thead>\n",
       "  <tbody>\n",
       "    <tr>\n",
       "      <th>0</th>\n",
       "      <td>1</td>\n",
       "      <td>1</td>\n",
       "      <td>20</td>\n",
       "      <td>7</td>\n",
       "      <td>WN</td>\n",
       "      <td>N204WN</td>\n",
       "      <td>682</td>\n",
       "      <td>10397</td>\n",
       "      <td>11292</td>\n",
       "      <td>605</td>\n",
       "      <td>...</td>\n",
       "      <td>5</td>\n",
       "      <td>NaN</td>\n",
       "      <td>NaN</td>\n",
       "      <td>NaN</td>\n",
       "      <td>NaN</td>\n",
       "      <td>NaN</td>\n",
       "      <td>2019</td>\n",
       "      <td>False</td>\n",
       "      <td>True</td>\n",
       "      <td>1100-1199</td>\n",
       "    </tr>\n",
       "    <tr>\n",
       "      <th>1</th>\n",
       "      <td>2</td>\n",
       "      <td>1</td>\n",
       "      <td>20</td>\n",
       "      <td>7</td>\n",
       "      <td>WN</td>\n",
       "      <td>N8682B</td>\n",
       "      <td>2622</td>\n",
       "      <td>10397</td>\n",
       "      <td>11292</td>\n",
       "      <td>2120</td>\n",
       "      <td>...</td>\n",
       "      <td>5</td>\n",
       "      <td>NaN</td>\n",
       "      <td>NaN</td>\n",
       "      <td>NaN</td>\n",
       "      <td>NaN</td>\n",
       "      <td>NaN</td>\n",
       "      <td>2019</td>\n",
       "      <td>False</td>\n",
       "      <td>True</td>\n",
       "      <td>1100-1199</td>\n",
       "    </tr>\n",
       "    <tr>\n",
       "      <th>2</th>\n",
       "      <td>3</td>\n",
       "      <td>1</td>\n",
       "      <td>20</td>\n",
       "      <td>7</td>\n",
       "      <td>WN</td>\n",
       "      <td>N717SA</td>\n",
       "      <td>2939</td>\n",
       "      <td>10397</td>\n",
       "      <td>11292</td>\n",
       "      <td>1800</td>\n",
       "      <td>...</td>\n",
       "      <td>5</td>\n",
       "      <td>4.0</td>\n",
       "      <td>0.0</td>\n",
       "      <td>10.0</td>\n",
       "      <td>0.0</td>\n",
       "      <td>3.0</td>\n",
       "      <td>2019</td>\n",
       "      <td>False</td>\n",
       "      <td>True</td>\n",
       "      <td>1100-1199</td>\n",
       "    </tr>\n",
       "    <tr>\n",
       "      <th>3</th>\n",
       "      <td>4</td>\n",
       "      <td>1</td>\n",
       "      <td>20</td>\n",
       "      <td>7</td>\n",
       "      <td>WN</td>\n",
       "      <td>N709SW</td>\n",
       "      <td>3848</td>\n",
       "      <td>10397</td>\n",
       "      <td>11292</td>\n",
       "      <td>1355</td>\n",
       "      <td>...</td>\n",
       "      <td>5</td>\n",
       "      <td>NaN</td>\n",
       "      <td>NaN</td>\n",
       "      <td>NaN</td>\n",
       "      <td>NaN</td>\n",
       "      <td>NaN</td>\n",
       "      <td>2019</td>\n",
       "      <td>False</td>\n",
       "      <td>True</td>\n",
       "      <td>1100-1199</td>\n",
       "    </tr>\n",
       "    <tr>\n",
       "      <th>4</th>\n",
       "      <td>5</td>\n",
       "      <td>1</td>\n",
       "      <td>20</td>\n",
       "      <td>7</td>\n",
       "      <td>WN</td>\n",
       "      <td>N7864B</td>\n",
       "      <td>1352</td>\n",
       "      <td>10397</td>\n",
       "      <td>11697</td>\n",
       "      <td>1125</td>\n",
       "      <td>...</td>\n",
       "      <td>3</td>\n",
       "      <td>NaN</td>\n",
       "      <td>NaN</td>\n",
       "      <td>NaN</td>\n",
       "      <td>NaN</td>\n",
       "      <td>NaN</td>\n",
       "      <td>2019</td>\n",
       "      <td>False</td>\n",
       "      <td>True</td>\n",
       "      <td>500-599</td>\n",
       "    </tr>\n",
       "    <tr>\n",
       "      <th>...</th>\n",
       "      <td>...</td>\n",
       "      <td>...</td>\n",
       "      <td>...</td>\n",
       "      <td>...</td>\n",
       "      <td>...</td>\n",
       "      <td>...</td>\n",
       "      <td>...</td>\n",
       "      <td>...</td>\n",
       "      <td>...</td>\n",
       "      <td>...</td>\n",
       "      <td>...</td>\n",
       "      <td>...</td>\n",
       "      <td>...</td>\n",
       "      <td>...</td>\n",
       "      <td>...</td>\n",
       "      <td>...</td>\n",
       "      <td>...</td>\n",
       "      <td>...</td>\n",
       "      <td>...</td>\n",
       "      <td>...</td>\n",
       "      <td>...</td>\n",
       "    </tr>\n",
       "    <tr>\n",
       "      <th>1057386</th>\n",
       "      <td>1382967</td>\n",
       "      <td>12</td>\n",
       "      <td>11</td>\n",
       "      <td>3</td>\n",
       "      <td>DL</td>\n",
       "      <td>N321DH</td>\n",
       "      <td>1826</td>\n",
       "      <td>13303</td>\n",
       "      <td>10397</td>\n",
       "      <td>1807</td>\n",
       "      <td>...</td>\n",
       "      <td>3</td>\n",
       "      <td>NaN</td>\n",
       "      <td>NaN</td>\n",
       "      <td>NaN</td>\n",
       "      <td>NaN</td>\n",
       "      <td>NaN</td>\n",
       "      <td>2019</td>\n",
       "      <td>False</td>\n",
       "      <td>False</td>\n",
       "      <td>500-599</td>\n",
       "    </tr>\n",
       "    <tr>\n",
       "      <th>1057387</th>\n",
       "      <td>1382968</td>\n",
       "      <td>12</td>\n",
       "      <td>11</td>\n",
       "      <td>3</td>\n",
       "      <td>DL</td>\n",
       "      <td>N329NW</td>\n",
       "      <td>1982</td>\n",
       "      <td>13303</td>\n",
       "      <td>12953</td>\n",
       "      <td>1959</td>\n",
       "      <td>...</td>\n",
       "      <td>5</td>\n",
       "      <td>5.0</td>\n",
       "      <td>0.0</td>\n",
       "      <td>19.0</td>\n",
       "      <td>0.0</td>\n",
       "      <td>0.0</td>\n",
       "      <td>2019</td>\n",
       "      <td>True</td>\n",
       "      <td>False</td>\n",
       "      <td>1000-1099</td>\n",
       "    </tr>\n",
       "    <tr>\n",
       "      <th>1057388</th>\n",
       "      <td>1382969</td>\n",
       "      <td>12</td>\n",
       "      <td>11</td>\n",
       "      <td>3</td>\n",
       "      <td>DL</td>\n",
       "      <td>N331NW</td>\n",
       "      <td>1987</td>\n",
       "      <td>13303</td>\n",
       "      <td>10397</td>\n",
       "      <td>1125</td>\n",
       "      <td>...</td>\n",
       "      <td>3</td>\n",
       "      <td>NaN</td>\n",
       "      <td>NaN</td>\n",
       "      <td>NaN</td>\n",
       "      <td>NaN</td>\n",
       "      <td>NaN</td>\n",
       "      <td>2019</td>\n",
       "      <td>False</td>\n",
       "      <td>False</td>\n",
       "      <td>500-599</td>\n",
       "    </tr>\n",
       "    <tr>\n",
       "      <th>1057389</th>\n",
       "      <td>1382970</td>\n",
       "      <td>12</td>\n",
       "      <td>11</td>\n",
       "      <td>3</td>\n",
       "      <td>DL</td>\n",
       "      <td>N309DN</td>\n",
       "      <td>2151</td>\n",
       "      <td>13303</td>\n",
       "      <td>12953</td>\n",
       "      <td>700</td>\n",
       "      <td>...</td>\n",
       "      <td>5</td>\n",
       "      <td>0.0</td>\n",
       "      <td>0.0</td>\n",
       "      <td>66.0</td>\n",
       "      <td>0.0</td>\n",
       "      <td>0.0</td>\n",
       "      <td>2019</td>\n",
       "      <td>True</td>\n",
       "      <td>False</td>\n",
       "      <td>1000-1099</td>\n",
       "    </tr>\n",
       "    <tr>\n",
       "      <th>1057390</th>\n",
       "      <td>1382971</td>\n",
       "      <td>12</td>\n",
       "      <td>11</td>\n",
       "      <td>3</td>\n",
       "      <td>DL</td>\n",
       "      <td>N338DN</td>\n",
       "      <td>2405</td>\n",
       "      <td>13303</td>\n",
       "      <td>10397</td>\n",
       "      <td>1231</td>\n",
       "      <td>...</td>\n",
       "      <td>3</td>\n",
       "      <td>NaN</td>\n",
       "      <td>NaN</td>\n",
       "      <td>NaN</td>\n",
       "      <td>NaN</td>\n",
       "      <td>NaN</td>\n",
       "      <td>2019</td>\n",
       "      <td>False</td>\n",
       "      <td>False</td>\n",
       "      <td>500-599</td>\n",
       "    </tr>\n",
       "  </tbody>\n",
       "</table>\n",
       "<p>1057391 rows × 31 columns</p>\n",
       "</div>"
      ],
      "text/plain": [
       "              id  month  day_of_month  day_of_week op_unique_carrier tail_num  \\\n",
       "0              1      1            20            7                WN   N204WN   \n",
       "1              2      1            20            7                WN   N8682B   \n",
       "2              3      1            20            7                WN   N717SA   \n",
       "3              4      1            20            7                WN   N709SW   \n",
       "4              5      1            20            7                WN   N7864B   \n",
       "...          ...    ...           ...          ...               ...      ...   \n",
       "1057386  1382967     12            11            3                DL   N321DH   \n",
       "1057387  1382968     12            11            3                DL   N329NW   \n",
       "1057388  1382969     12            11            3                DL   N331NW   \n",
       "1057389  1382970     12            11            3                DL   N309DN   \n",
       "1057390  1382971     12            11            3                DL   N338DN   \n",
       "\n",
       "         op_carrier_fl_num  origin_airport_id  dest_airport_id  crs_dep_time  \\\n",
       "0                      682              10397            11292           605   \n",
       "1                     2622              10397            11292          2120   \n",
       "2                     2939              10397            11292          1800   \n",
       "3                     3848              10397            11292          1355   \n",
       "4                     1352              10397            11697          1125   \n",
       "...                    ...                ...              ...           ...   \n",
       "1057386               1826              13303            10397          1807   \n",
       "1057387               1982              13303            12953          1959   \n",
       "1057388               1987              13303            10397          1125   \n",
       "1057389               2151              13303            12953           700   \n",
       "1057390               2405              13303            10397          1231   \n",
       "\n",
       "         ...  distance_group  carrier_delay weather_delay  nas_delay  \\\n",
       "0        ...               5            NaN           NaN        NaN   \n",
       "1        ...               5            NaN           NaN        NaN   \n",
       "2        ...               5            4.0           0.0       10.0   \n",
       "3        ...               5            NaN           NaN        NaN   \n",
       "4        ...               3            NaN           NaN        NaN   \n",
       "...      ...             ...            ...           ...        ...   \n",
       "1057386  ...               3            NaN           NaN        NaN   \n",
       "1057387  ...               5            5.0           0.0       19.0   \n",
       "1057388  ...               3            NaN           NaN        NaN   \n",
       "1057389  ...               5            0.0           0.0       66.0   \n",
       "1057390  ...               3            NaN           NaN        NaN   \n",
       "\n",
       "         security_delay  late_aircraft_delay  year  is_delayed  is_weekend  \\\n",
       "0                   NaN                  NaN  2019       False        True   \n",
       "1                   NaN                  NaN  2019       False        True   \n",
       "2                   0.0                  3.0  2019       False        True   \n",
       "3                   NaN                  NaN  2019       False        True   \n",
       "4                   NaN                  NaN  2019       False        True   \n",
       "...                 ...                  ...   ...         ...         ...   \n",
       "1057386             NaN                  NaN  2019       False       False   \n",
       "1057387             0.0                  0.0  2019        True       False   \n",
       "1057388             NaN                  NaN  2019       False       False   \n",
       "1057389             0.0                  0.0  2019        True       False   \n",
       "1057390             NaN                  NaN  2019       False       False   \n",
       "\n",
       "         distance_agg  \n",
       "0           1100-1199  \n",
       "1           1100-1199  \n",
       "2           1100-1199  \n",
       "3           1100-1199  \n",
       "4             500-599  \n",
       "...               ...  \n",
       "1057386       500-599  \n",
       "1057387     1000-1099  \n",
       "1057388       500-599  \n",
       "1057389     1000-1099  \n",
       "1057390       500-599  \n",
       "\n",
       "[1057391 rows x 31 columns]"
      ]
     },
     "execution_count": 5,
     "metadata": {},
     "output_type": "execute_result"
    }
   ],
   "source": [
    "flight_df = pd.read_csv(r'..\\data\\processed\\flight_df_01.csv',sep=';', decimal='.' )\n",
    "\n",
    "flight_df"
   ]
  },
  {
   "cell_type": "markdown",
   "metadata": {},
   "source": [
    " # Wzbogacenie o `aircraft`\n",
    " Usunięcie z ramki kolumny `number_of_seats` oraz `id`. Na tej podstawie usuniecie duplikatów.  \n",
    " Następnie usunięcie duplikatów dla `tail_num` czyli sprawdzenie czy dla jednego `tail_num` występuje więcej niż jeden rok produkcji.  "
   ]
  },
  {
   "cell_type": "code",
   "execution_count": 7,
   "metadata": {},
   "outputs": [],
   "source": [
    "aircraft_df = read_sql_table('aircraft')"
   ]
  },
  {
   "cell_type": "code",
   "execution_count": 9,
   "metadata": {},
   "outputs": [],
   "source": [
    "aircraft_df.drop(columns=['number_of_seats', 'id'], inplace=True)\n",
    "aircraft_df.drop_duplicates(inplace=True)"
   ]
  },
  {
   "cell_type": "code",
   "execution_count": 11,
   "metadata": {},
   "outputs": [],
   "source": [
    "aircraft_df_is_duplicated = aircraft_df.duplicated(subset='tail_num')\n",
    "aircraft_df_duplicated = aircraft_df.loc[aircraft_df_is_duplicated]"
   ]
  },
  {
   "cell_type": "markdown",
   "metadata": {},
   "source": [
    " ## Modyfikacja `aircraft_df`\n",
    " Dla powielonych `tail_num`, `manufacture_year` zostanie ustawiony jako najwyższy"
   ]
  },
  {
   "cell_type": "code",
   "execution_count": 13,
   "metadata": {},
   "outputs": [],
   "source": [
    "duplicate_check = aircraft_df.groupby('tail_num')['manufacture_year'].nunique()\n",
    "\n",
    "aircraft_df_duplicated = duplicate_check[duplicate_check > 1]\n",
    "\n",
    "aircraft_df = aircraft_df.groupby('tail_num').agg({'manufacture_year': 'max'}).reset_index()"
   ]
  },
  {
   "cell_type": "markdown",
   "metadata": {},
   "source": [
    " ## Połączenie `aircraft_df` oraz `flight_df`\n",
    "Usunięcie duplikatów, przedstawienie wyników w tabeli za pomocą wykresu punktowego.\n",
    "Wyświetlenie na wykresie roczników samolotów, które wykonały łącznie więcej niż 10000 lotów."
   ]
  },
  {
   "cell_type": "code",
   "execution_count": 15,
   "metadata": {},
   "outputs": [],
   "source": [
    "tmp_flight_df = pd.merge(flight_df, aircraft_df, how='left', on='tail_num')"
   ]
  },
  {
   "cell_type": "code",
   "execution_count": 16,
   "metadata": {},
   "outputs": [
    {
     "name": "stdout",
     "output_type": "stream",
     "text": [
      "Nie ma duplikatów w ramce danych.\n"
     ]
    }
   ],
   "source": [
    "are_duplicates = tmp_flight_df.duplicated()\n",
    "\n",
    "if are_duplicates.any():\n",
    "    print(\"Występują duplikaty w ramce danych.\")\n",
    "else:\n",
    "    print(\"Nie ma duplikatów w ramce danych.\")"
   ]
  },
  {
   "cell_type": "code",
   "execution_count": 17,
   "metadata": {},
   "outputs": [],
   "source": [
    "flight_df = tmp_flight_df"
   ]
  },
  {
   "cell_type": "markdown",
   "metadata": {},
   "source": [
    "## Opóźnienia vs. rok produkcji samolotu cz. 1"
   ]
  },
  {
   "cell_type": "code",
   "execution_count": 18,
   "metadata": {},
   "outputs": [
    {
     "data": {
      "text/plain": [
       "manufacture_year\n",
       "1987.0    0.126411\n",
       "1988.0    0.181388\n",
       "1989.0    0.153846\n",
       "1990.0    0.155453\n",
       "1991.0    0.181795\n",
       "Name: is_delayed, dtype: float64"
      ]
     },
     "execution_count": 18,
     "metadata": {},
     "output_type": "execute_result"
    }
   ],
   "source": [
    "delays_by_manufacture_year_df = flight_df.groupby('manufacture_year')['is_delayed'].mean()\n",
    "delays_by_manufacture_year_df.head()"
   ]
  },
  {
   "cell_type": "code",
   "execution_count": 19,
   "metadata": {},
   "outputs": [
    {
     "data": {
      "image/png": "[encoded data removed]",
      "text/plain": [
       "<Figure size 1000x600 with 1 Axes>"
      ]
     },
     "metadata": {},
     "output_type": "display_data"
    }
   ],
   "source": [
    "plt.figure(figsize=(10, 6))\n",
    "plt.scatter(delays_by_manufacture_year_df.index, delays_by_manufacture_year_df.values, color='b', marker='o')\n",
    "\n",
    "plt.xlabel('Rok produkcji')\n",
    "plt.ylabel('Częstotliwość opóźnień')\n",
    "plt.title('Częstotliwość opóźnień w zależności od roku produkcji')\n",
    "plt.grid(True)\n",
    "\n",
    "plt.show()"
   ]
  },
  {
   "cell_type": "markdown",
   "metadata": {},
   "source": [
    "Modyfikacja wykresu tak, aby prezentował tylko te roczniki, które odbyły więcej niż 10000 lotów"
   ]
  },
  {
   "cell_type": "code",
   "execution_count": 20,
   "metadata": {},
   "outputs": [
    {
     "data": {
      "image/png": "[encoded data removed]",
      "text/plain": [
       "<Figure size 1000x600 with 1 Axes>"
      ]
     },
     "metadata": {},
     "output_type": "display_data"
    }
   ],
   "source": [
    "manufactury_counts = flight_df['manufacture_year'].value_counts()\n",
    "filtered_records = flight_df[flight_df['manufacture_year'].isin(manufactury_counts[manufactury_counts > 10000].index)]\n",
    "\n",
    "delays_by_manufacture_year_df2 = filtered_records.groupby('manufacture_year')['is_delayed'].mean()\n",
    "\n",
    "plt.figure(figsize=(10, 6))\n",
    "plt.scatter(delays_by_manufacture_year_df2.index, delays_by_manufacture_year_df2.values, color='b', marker='o')\n",
    "\n",
    "plt.xlabel('Rok produkcji')\n",
    "plt.ylabel('Częstotliwość opóźnień')\n",
    "plt.title('Częstotliwość opóźnień w zależności od roku produkcji dla min. 10 000 lotów rocznie')\n",
    "plt.grid(True)\n",
    "\n",
    "plt.show()"
   ]
  },
  {
   "cell_type": "markdown",
   "metadata": {},
   "source": [
    " ## Opóźnienia vs. rok produkcji samolotu cz. 2\n",
    " Agregacja kolumny `manufacture_year` do kolumny `manufacture_year_agg` grupując dane co 3 lata\n",
    " Wyznaczenie top 5 roczników samolotu, które wykonały najwięcej lotów - do obliczeń wykorzystam `delays_by_manufacture_year_df`."
   ]
  },
  {
   "cell_type": "code",
   "execution_count": 21,
   "metadata": {},
   "outputs": [],
   "source": [
    "flight_df['manufacture_year_agg'] = (flight_df['manufacture_year'] // 3) * 3"
   ]
  },
  {
   "cell_type": "code",
   "execution_count": 22,
   "metadata": {},
   "outputs": [],
   "source": [
    "flight_delays_by_manufacture_year_agg_df = flight_df.groupby('manufacture_year_agg')['is_delayed'].mean().reset_index()"
   ]
  },
  {
   "cell_type": "code",
   "execution_count": 23,
   "metadata": {},
   "outputs": [
    {
     "data": {
      "image/png": "[encoded data removed]",
      "text/plain": [
       "<Figure size 1000x600 with 1 Axes>"
      ]
     },
     "metadata": {},
     "output_type": "display_data"
    }
   ],
   "source": [
    "years = flight_delays_by_manufacture_year_agg_df['manufacture_year_agg']\n",
    "delays = flight_delays_by_manufacture_year_agg_df['is_delayed']\n",
    "\n",
    "plt.figure(figsize=(10, 6))\n",
    "plt.bar(years, delays, color='skyblue')\n",
    "plt.xlabel('Grupa lat (co 3 lata)')\n",
    "plt.ylabel('Średnie opóźnienie lotów')\n",
    "plt.title('Średnie opóźnienia lotów w zależności od grupy lat')\n",
    "plt.grid(axis='y')\n",
    "\n",
    "plt.show()"
   ]
  },
  {
   "cell_type": "markdown",
   "metadata": {},
   "source": [
    "Wyznaczenie TOP 5 roczników produkcji - czyli sortując według liczby wykonanych lotów"
   ]
  },
  {
   "cell_type": "code",
   "execution_count": 24,
   "metadata": {},
   "outputs": [
    {
     "data": {
      "text/plain": [
       "manufacture_year\n",
       "1994.0    0.232518\n",
       "2006.0    0.224261\n",
       "2011.0    0.220629\n",
       "2007.0    0.216644\n",
       "2002.0    0.212610\n",
       "Name: is_delayed, dtype: float64"
      ]
     },
     "execution_count": 24,
     "metadata": {},
     "output_type": "execute_result"
    }
   ],
   "source": [
    "sorted_delays_df = delays_by_manufacture_year_df.sort_values(ascending=False)\n",
    "\n",
    "top_manufactured_df = sorted_delays_df.head(5)\n",
    "\n",
    "top_manufactured_df"
   ]
  },
  {
   "cell_type": "markdown",
   "metadata": {},
   "source": [
    " # Zapis ramki"
   ]
  },
  {
   "cell_type": "code",
   "execution_count": 25,
   "metadata": {},
   "outputs": [],
   "source": [
    "flight_df.to_csv(\n",
    "    r'..\\data\\processed\\flight_df_02.csv',\n",
    "    sep=';',\n",
    "    decimal='.',\n",
    "    index=False\n",
    ")"
   ]
  }
 ],
 "metadata": {
  "kernelspec": {
   "display_name": "AnalizaLotow",
   "language": "python",
   "name": "analizalotow"
  },
  "language_info": {
   "codemirror_mode": {
    "name": "ipython",
    "version": 3
   },
   "file_extension": ".py",
   "mimetype": "text/x-python",
   "name": "python",
   "nbconvert_exporter": "python",
   "pygments_lexer": "ipython3",
   "version": "3.8.19"
  },
  "vscode": {
   "interpreter": {
    "hash": "38d75d0df746d7f75dd34c5d1915af59cb55786647bd68b8d9064425d7680b12"
   }
  }
 },
 "nbformat": 4,
 "nbformat_minor": 2
}
