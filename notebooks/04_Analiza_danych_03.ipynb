{
 "cells": [
  {
   "cell_type": "markdown",
   "metadata": {},
   "source": [
    " # Opis notatnika\n",
    " Sprawdzenie między innymi to, czy opóźnienia lotów zależne są od trasy czy warunków pogodowych."
   ]
  },
  {
   "cell_type": "code",
   "execution_count": 1,
   "metadata": {},
   "outputs": [],
   "source": [
    "import pandas as pd\n",
    "import psycopg2\n",
    "import matplotlib as plt\n",
    "import matplotlib.pyplot as plt\n",
    "\n",
    "from sqlalchemy import create_engine"
   ]
  },
  {
   "cell_type": "code",
   "execution_count": 2,
   "metadata": {},
   "outputs": [
    {
     "name": "stdout",
     "output_type": "stream",
     "text": [
      "Połączenie z bazą danych udane!\n"
     ]
    }
   ],
   "source": [
    "username = ''\n",
    "password = ''\n",
    "\n",
    "host = 'localhost'\n",
    "database = 'airlines'\n",
    "port = 5432\n",
    "\n",
    "try:\n",
    "    con = psycopg2.connect(user=username, password=password, host=host, database=database)\n",
    "    cursor = con.cursor()\n",
    "    print(\"Połączenie z bazą danych udane!\")\n",
    "except psycopg2.Error as e:\n",
    "    print(f\"Błąd połączenia: {e}\")"
   ]
  },
  {
   "cell_type": "code",
   "execution_count": 3,
   "metadata": {},
   "outputs": [],
   "source": [
    "url = f\"postgresql://{username}:{password}@{host}:{port}/{database}\"\n",
    "engine = create_engine(url)"
   ]
  },
  {
   "cell_type": "markdown",
   "metadata": {},
   "source": [
    "Implementacja metody `read_sql_table`"
   ]
  },
  {
   "cell_type": "code",
   "execution_count": 4,
   "metadata": {},
   "outputs": [],
   "source": [
    "def read_sql_table(table_name):\n",
    "    df = pd.read_sql(table_name, con = engine)\n",
    "    return df"
   ]
  },
  {
   "cell_type": "code",
   "execution_count": 5,
   "metadata": {},
   "outputs": [
    {
     "data": {
      "text/html": [
       "<div>\n",
       "<style scoped>\n",
       "    .dataframe tbody tr th:only-of-type {\n",
       "        vertical-align: middle;\n",
       "    }\n",
       "\n",
       "    .dataframe tbody tr th {\n",
       "        vertical-align: top;\n",
       "    }\n",
       "\n",
       "    .dataframe thead th {\n",
       "        text-align: right;\n",
       "    }\n",
       "</style>\n",
       "<table border=\"1\" class=\"dataframe\">\n",
       "  <thead>\n",
       "    <tr style=\"text-align: right;\">\n",
       "      <th></th>\n",
       "      <th>id</th>\n",
       "      <th>month</th>\n",
       "      <th>day_of_month</th>\n",
       "      <th>day_of_week</th>\n",
       "      <th>op_unique_carrier</th>\n",
       "      <th>tail_num</th>\n",
       "      <th>op_carrier_fl_num</th>\n",
       "      <th>origin_airport_id</th>\n",
       "      <th>dest_airport_id</th>\n",
       "      <th>crs_dep_time</th>\n",
       "      <th>...</th>\n",
       "      <th>weather_delay</th>\n",
       "      <th>nas_delay</th>\n",
       "      <th>security_delay</th>\n",
       "      <th>late_aircraft_delay</th>\n",
       "      <th>year</th>\n",
       "      <th>is_delayed</th>\n",
       "      <th>is_weekend</th>\n",
       "      <th>distance_agg</th>\n",
       "      <th>manufacture_year</th>\n",
       "      <th>manufacture_year_agg</th>\n",
       "    </tr>\n",
       "  </thead>\n",
       "  <tbody>\n",
       "    <tr>\n",
       "      <th>0</th>\n",
       "      <td>1</td>\n",
       "      <td>1</td>\n",
       "      <td>20</td>\n",
       "      <td>7</td>\n",
       "      <td>WN</td>\n",
       "      <td>N204WN</td>\n",
       "      <td>682</td>\n",
       "      <td>10397</td>\n",
       "      <td>11292</td>\n",
       "      <td>605</td>\n",
       "      <td>...</td>\n",
       "      <td>NaN</td>\n",
       "      <td>NaN</td>\n",
       "      <td>NaN</td>\n",
       "      <td>NaN</td>\n",
       "      <td>2019</td>\n",
       "      <td>False</td>\n",
       "      <td>True</td>\n",
       "      <td>1100-1199</td>\n",
       "      <td>2005.0</td>\n",
       "      <td>2004.0</td>\n",
       "    </tr>\n",
       "    <tr>\n",
       "      <th>1</th>\n",
       "      <td>2</td>\n",
       "      <td>1</td>\n",
       "      <td>20</td>\n",
       "      <td>7</td>\n",
       "      <td>WN</td>\n",
       "      <td>N8682B</td>\n",
       "      <td>2622</td>\n",
       "      <td>10397</td>\n",
       "      <td>11292</td>\n",
       "      <td>2120</td>\n",
       "      <td>...</td>\n",
       "      <td>NaN</td>\n",
       "      <td>NaN</td>\n",
       "      <td>NaN</td>\n",
       "      <td>NaN</td>\n",
       "      <td>2019</td>\n",
       "      <td>False</td>\n",
       "      <td>True</td>\n",
       "      <td>1100-1199</td>\n",
       "      <td>2016.0</td>\n",
       "      <td>2016.0</td>\n",
       "    </tr>\n",
       "    <tr>\n",
       "      <th>2</th>\n",
       "      <td>3</td>\n",
       "      <td>1</td>\n",
       "      <td>20</td>\n",
       "      <td>7</td>\n",
       "      <td>WN</td>\n",
       "      <td>N717SA</td>\n",
       "      <td>2939</td>\n",
       "      <td>10397</td>\n",
       "      <td>11292</td>\n",
       "      <td>1800</td>\n",
       "      <td>...</td>\n",
       "      <td>0.0</td>\n",
       "      <td>10.0</td>\n",
       "      <td>0.0</td>\n",
       "      <td>3.0</td>\n",
       "      <td>2019</td>\n",
       "      <td>False</td>\n",
       "      <td>True</td>\n",
       "      <td>1100-1199</td>\n",
       "      <td>1998.0</td>\n",
       "      <td>1998.0</td>\n",
       "    </tr>\n",
       "    <tr>\n",
       "      <th>3</th>\n",
       "      <td>4</td>\n",
       "      <td>1</td>\n",
       "      <td>20</td>\n",
       "      <td>7</td>\n",
       "      <td>WN</td>\n",
       "      <td>N709SW</td>\n",
       "      <td>3848</td>\n",
       "      <td>10397</td>\n",
       "      <td>11292</td>\n",
       "      <td>1355</td>\n",
       "      <td>...</td>\n",
       "      <td>NaN</td>\n",
       "      <td>NaN</td>\n",
       "      <td>NaN</td>\n",
       "      <td>NaN</td>\n",
       "      <td>2019</td>\n",
       "      <td>False</td>\n",
       "      <td>True</td>\n",
       "      <td>1100-1199</td>\n",
       "      <td>1998.0</td>\n",
       "      <td>1998.0</td>\n",
       "    </tr>\n",
       "    <tr>\n",
       "      <th>4</th>\n",
       "      <td>5</td>\n",
       "      <td>1</td>\n",
       "      <td>20</td>\n",
       "      <td>7</td>\n",
       "      <td>WN</td>\n",
       "      <td>N7864B</td>\n",
       "      <td>1352</td>\n",
       "      <td>10397</td>\n",
       "      <td>11697</td>\n",
       "      <td>1125</td>\n",
       "      <td>...</td>\n",
       "      <td>NaN</td>\n",
       "      <td>NaN</td>\n",
       "      <td>NaN</td>\n",
       "      <td>NaN</td>\n",
       "      <td>2019</td>\n",
       "      <td>False</td>\n",
       "      <td>True</td>\n",
       "      <td>500-599</td>\n",
       "      <td>2001.0</td>\n",
       "      <td>2001.0</td>\n",
       "    </tr>\n",
       "    <tr>\n",
       "      <th>...</th>\n",
       "      <td>...</td>\n",
       "      <td>...</td>\n",
       "      <td>...</td>\n",
       "      <td>...</td>\n",
       "      <td>...</td>\n",
       "      <td>...</td>\n",
       "      <td>...</td>\n",
       "      <td>...</td>\n",
       "      <td>...</td>\n",
       "      <td>...</td>\n",
       "      <td>...</td>\n",
       "      <td>...</td>\n",
       "      <td>...</td>\n",
       "      <td>...</td>\n",
       "      <td>...</td>\n",
       "      <td>...</td>\n",
       "      <td>...</td>\n",
       "      <td>...</td>\n",
       "      <td>...</td>\n",
       "      <td>...</td>\n",
       "      <td>...</td>\n",
       "    </tr>\n",
       "    <tr>\n",
       "      <th>1057386</th>\n",
       "      <td>1382967</td>\n",
       "      <td>12</td>\n",
       "      <td>11</td>\n",
       "      <td>3</td>\n",
       "      <td>DL</td>\n",
       "      <td>N321DH</td>\n",
       "      <td>1826</td>\n",
       "      <td>13303</td>\n",
       "      <td>10397</td>\n",
       "      <td>1807</td>\n",
       "      <td>...</td>\n",
       "      <td>NaN</td>\n",
       "      <td>NaN</td>\n",
       "      <td>NaN</td>\n",
       "      <td>NaN</td>\n",
       "      <td>2019</td>\n",
       "      <td>False</td>\n",
       "      <td>False</td>\n",
       "      <td>500-599</td>\n",
       "      <td>2017.0</td>\n",
       "      <td>2016.0</td>\n",
       "    </tr>\n",
       "    <tr>\n",
       "      <th>1057387</th>\n",
       "      <td>1382968</td>\n",
       "      <td>12</td>\n",
       "      <td>11</td>\n",
       "      <td>3</td>\n",
       "      <td>DL</td>\n",
       "      <td>N329NW</td>\n",
       "      <td>1982</td>\n",
       "      <td>13303</td>\n",
       "      <td>12953</td>\n",
       "      <td>1959</td>\n",
       "      <td>...</td>\n",
       "      <td>0.0</td>\n",
       "      <td>19.0</td>\n",
       "      <td>0.0</td>\n",
       "      <td>0.0</td>\n",
       "      <td>2019</td>\n",
       "      <td>True</td>\n",
       "      <td>False</td>\n",
       "      <td>1000-1099</td>\n",
       "      <td>1992.0</td>\n",
       "      <td>1992.0</td>\n",
       "    </tr>\n",
       "    <tr>\n",
       "      <th>1057388</th>\n",
       "      <td>1382969</td>\n",
       "      <td>12</td>\n",
       "      <td>11</td>\n",
       "      <td>3</td>\n",
       "      <td>DL</td>\n",
       "      <td>N331NW</td>\n",
       "      <td>1987</td>\n",
       "      <td>13303</td>\n",
       "      <td>10397</td>\n",
       "      <td>1125</td>\n",
       "      <td>...</td>\n",
       "      <td>NaN</td>\n",
       "      <td>NaN</td>\n",
       "      <td>NaN</td>\n",
       "      <td>NaN</td>\n",
       "      <td>2019</td>\n",
       "      <td>False</td>\n",
       "      <td>False</td>\n",
       "      <td>500-599</td>\n",
       "      <td>1992.0</td>\n",
       "      <td>1992.0</td>\n",
       "    </tr>\n",
       "    <tr>\n",
       "      <th>1057389</th>\n",
       "      <td>1382970</td>\n",
       "      <td>12</td>\n",
       "      <td>11</td>\n",
       "      <td>3</td>\n",
       "      <td>DL</td>\n",
       "      <td>N309DN</td>\n",
       "      <td>2151</td>\n",
       "      <td>13303</td>\n",
       "      <td>12953</td>\n",
       "      <td>700</td>\n",
       "      <td>...</td>\n",
       "      <td>0.0</td>\n",
       "      <td>66.0</td>\n",
       "      <td>0.0</td>\n",
       "      <td>0.0</td>\n",
       "      <td>2019</td>\n",
       "      <td>True</td>\n",
       "      <td>False</td>\n",
       "      <td>1000-1099</td>\n",
       "      <td>2016.0</td>\n",
       "      <td>2016.0</td>\n",
       "    </tr>\n",
       "    <tr>\n",
       "      <th>1057390</th>\n",
       "      <td>1382971</td>\n",
       "      <td>12</td>\n",
       "      <td>11</td>\n",
       "      <td>3</td>\n",
       "      <td>DL</td>\n",
       "      <td>N338DN</td>\n",
       "      <td>2405</td>\n",
       "      <td>13303</td>\n",
       "      <td>10397</td>\n",
       "      <td>1231</td>\n",
       "      <td>...</td>\n",
       "      <td>NaN</td>\n",
       "      <td>NaN</td>\n",
       "      <td>NaN</td>\n",
       "      <td>NaN</td>\n",
       "      <td>2019</td>\n",
       "      <td>False</td>\n",
       "      <td>False</td>\n",
       "      <td>500-599</td>\n",
       "      <td>2018.0</td>\n",
       "      <td>2016.0</td>\n",
       "    </tr>\n",
       "  </tbody>\n",
       "</table>\n",
       "<p>1057391 rows × 33 columns</p>\n",
       "</div>"
      ],
      "text/plain": [
       "              id  month  day_of_month  day_of_week op_unique_carrier tail_num  \\\n",
       "0              1      1            20            7                WN   N204WN   \n",
       "1              2      1            20            7                WN   N8682B   \n",
       "2              3      1            20            7                WN   N717SA   \n",
       "3              4      1            20            7                WN   N709SW   \n",
       "4              5      1            20            7                WN   N7864B   \n",
       "...          ...    ...           ...          ...               ...      ...   \n",
       "1057386  1382967     12            11            3                DL   N321DH   \n",
       "1057387  1382968     12            11            3                DL   N329NW   \n",
       "1057388  1382969     12            11            3                DL   N331NW   \n",
       "1057389  1382970     12            11            3                DL   N309DN   \n",
       "1057390  1382971     12            11            3                DL   N338DN   \n",
       "\n",
       "         op_carrier_fl_num  origin_airport_id  dest_airport_id  crs_dep_time  \\\n",
       "0                      682              10397            11292           605   \n",
       "1                     2622              10397            11292          2120   \n",
       "2                     2939              10397            11292          1800   \n",
       "3                     3848              10397            11292          1355   \n",
       "4                     1352              10397            11697          1125   \n",
       "...                    ...                ...              ...           ...   \n",
       "1057386               1826              13303            10397          1807   \n",
       "1057387               1982              13303            12953          1959   \n",
       "1057388               1987              13303            10397          1125   \n",
       "1057389               2151              13303            12953           700   \n",
       "1057390               2405              13303            10397          1231   \n",
       "\n",
       "         ...  weather_delay  nas_delay security_delay  late_aircraft_delay  \\\n",
       "0        ...            NaN        NaN            NaN                  NaN   \n",
       "1        ...            NaN        NaN            NaN                  NaN   \n",
       "2        ...            0.0       10.0            0.0                  3.0   \n",
       "3        ...            NaN        NaN            NaN                  NaN   \n",
       "4        ...            NaN        NaN            NaN                  NaN   \n",
       "...      ...            ...        ...            ...                  ...   \n",
       "1057386  ...            NaN        NaN            NaN                  NaN   \n",
       "1057387  ...            0.0       19.0            0.0                  0.0   \n",
       "1057388  ...            NaN        NaN            NaN                  NaN   \n",
       "1057389  ...            0.0       66.0            0.0                  0.0   \n",
       "1057390  ...            NaN        NaN            NaN                  NaN   \n",
       "\n",
       "         year  is_delayed is_weekend  distance_agg  manufacture_year  \\\n",
       "0        2019       False       True     1100-1199            2005.0   \n",
       "1        2019       False       True     1100-1199            2016.0   \n",
       "2        2019       False       True     1100-1199            1998.0   \n",
       "3        2019       False       True     1100-1199            1998.0   \n",
       "4        2019       False       True       500-599            2001.0   \n",
       "...       ...         ...        ...           ...               ...   \n",
       "1057386  2019       False      False       500-599            2017.0   \n",
       "1057387  2019        True      False     1000-1099            1992.0   \n",
       "1057388  2019       False      False       500-599            1992.0   \n",
       "1057389  2019        True      False     1000-1099            2016.0   \n",
       "1057390  2019       False      False       500-599            2018.0   \n",
       "\n",
       "         manufacture_year_agg  \n",
       "0                      2004.0  \n",
       "1                      2016.0  \n",
       "2                      1998.0  \n",
       "3                      1998.0  \n",
       "4                      2001.0  \n",
       "...                       ...  \n",
       "1057386                2016.0  \n",
       "1057387                1992.0  \n",
       "1057388                1992.0  \n",
       "1057389                2016.0  \n",
       "1057390                2016.0  \n",
       "\n",
       "[1057391 rows x 33 columns]"
      ]
     },
     "execution_count": 5,
     "metadata": {},
     "output_type": "execute_result"
    }
   ],
   "source": [
    "flight_df = pd.read_csv(r'..\\data\\processed\\flight_df_02.csv',sep=';', decimal='.' )\n",
    "\n",
    "flight_df"
   ]
  },
  {
   "cell_type": "code",
   "execution_count": 6,
   "metadata": {},
   "outputs": [],
   "source": [
    "flight_df_expected_rows_amount = 1057391\n",
    "flight_df_rows_amount = flight_df.shape[0]\n",
    "\n",
    "assert flight_df_rows_amount == flight_df_expected_rows_amount, f'Oczekiwano {flight_df_expected_rows_amount} wierszy, otrzymano {flight_df_rows_amount}'"
   ]
  },
  {
   "cell_type": "code",
   "execution_count": 7,
   "metadata": {},
   "outputs": [
    {
     "data": {
      "text/plain": [
       "Index(['id', 'month', 'day_of_month', 'day_of_week', 'op_unique_carrier',\n",
       "       'tail_num', 'op_carrier_fl_num', 'origin_airport_id', 'dest_airport_id',\n",
       "       'crs_dep_time', 'dep_time', 'dep_delay', 'dep_time_blk', 'crs_arr_time',\n",
       "       'arr_time', 'arr_delay_new', 'arr_time_blk', 'cancelled',\n",
       "       'crs_elapsed_time', 'actual_elapsed_time', 'distance', 'distance_group',\n",
       "       'carrier_delay', 'weather_delay', 'nas_delay', 'security_delay',\n",
       "       'late_aircraft_delay', 'year', 'is_delayed', 'is_weekend',\n",
       "       'distance_agg', 'manufacture_year', 'manufacture_year_agg'],\n",
       "      dtype='object')"
      ]
     },
     "execution_count": 7,
     "metadata": {},
     "output_type": "execute_result"
    }
   ],
   "source": [
    "flight_df.columns"
   ]
  },
  {
   "cell_type": "markdown",
   "metadata": {},
   "source": [
    " # Wzbogacenie o `airport_list`"
   ]
  },
  {
   "cell_type": "code",
   "execution_count": 8,
   "metadata": {},
   "outputs": [],
   "source": [
    "airport_list_df = read_sql_table('airport_list')"
   ]
  },
  {
   "cell_type": "code",
   "execution_count": 9,
   "metadata": {},
   "outputs": [
    {
     "data": {
      "text/plain": [
       "Index(['id', 'origin_airport_id', 'display_airport_name', 'origin_city_name',\n",
       "       'name'],\n",
       "      dtype='object')"
      ]
     },
     "execution_count": 9,
     "metadata": {},
     "output_type": "execute_result"
    }
   ],
   "source": [
    "airport_list_df.columns"
   ]
  },
  {
   "cell_type": "markdown",
   "metadata": {},
   "source": [
    " Sprawdzenie czy występują duplikaty dla kolumny `origin_airport_id`"
   ]
  },
  {
   "cell_type": "code",
   "execution_count": 10,
   "metadata": {},
   "outputs": [
    {
     "data": {
      "text/html": [
       "<div>\n",
       "<style scoped>\n",
       "    .dataframe tbody tr th:only-of-type {\n",
       "        vertical-align: middle;\n",
       "    }\n",
       "\n",
       "    .dataframe tbody tr th {\n",
       "        vertical-align: top;\n",
       "    }\n",
       "\n",
       "    .dataframe thead th {\n",
       "        text-align: right;\n",
       "    }\n",
       "</style>\n",
       "<table border=\"1\" class=\"dataframe\">\n",
       "  <thead>\n",
       "    <tr style=\"text-align: right;\">\n",
       "      <th></th>\n",
       "      <th>id</th>\n",
       "      <th>origin_airport_id</th>\n",
       "      <th>display_airport_name</th>\n",
       "      <th>origin_city_name</th>\n",
       "      <th>name</th>\n",
       "    </tr>\n",
       "  </thead>\n",
       "  <tbody>\n",
       "  </tbody>\n",
       "</table>\n",
       "</div>"
      ],
      "text/plain": [
       "Empty DataFrame\n",
       "Columns: [id, origin_airport_id, display_airport_name, origin_city_name, name]\n",
       "Index: []"
      ]
     },
     "execution_count": 10,
     "metadata": {},
     "output_type": "execute_result"
    }
   ],
   "source": [
    "airport_list_df_is_duplicated = airport_list_df.duplicated(subset='origin_airport_id')\n",
    "airport_list_df_duplicated = airport_list_df.loc[airport_list_df_is_duplicated]\n",
    "airport_list_df_duplicated\n",
    "#-> brak duplikatów"
   ]
  },
  {
   "cell_type": "markdown",
   "metadata": {},
   "source": [
    "Złączenia ramki `flight_df` oraz `airport_list_df` używając `origin_airport_id`"
   ]
  },
  {
   "cell_type": "code",
   "execution_count": 13,
   "metadata": {},
   "outputs": [
    {
     "data": {
      "text/plain": [
       "Index(['id', 'month', 'day_of_month', 'day_of_week', 'op_unique_carrier',\n",
       "       'tail_num', 'op_carrier_fl_num', 'origin_airport_id', 'dest_airport_id',\n",
       "       'crs_dep_time', 'dep_time', 'dep_delay', 'dep_time_blk', 'crs_arr_time',\n",
       "       'arr_time', 'arr_delay_new', 'arr_time_blk', 'cancelled',\n",
       "       'crs_elapsed_time', 'actual_elapsed_time', 'distance', 'distance_group',\n",
       "       'carrier_delay', 'weather_delay', 'nas_delay', 'security_delay',\n",
       "       'late_aircraft_delay', 'year', 'is_delayed', 'is_weekend',\n",
       "       'distance_agg', 'manufacture_year', 'manufacture_year_agg',\n",
       "       'origin_city_name'],\n",
       "      dtype='object')"
      ]
     },
     "execution_count": 13,
     "metadata": {},
     "output_type": "execute_result"
    }
   ],
   "source": [
    "flight_df = pd.merge(flight_df, airport_list_df[['origin_airport_id', 'origin_city_name']], how='left', on='origin_airport_id')\n",
    "flight_df.columns"
   ]
  },
  {
   "cell_type": "markdown",
   "metadata": {},
   "source": [
    "Złączenie ramki `flight_df` oraz `airport_list_df` używając `destination_airport_id`"
   ]
  },
  {
   "cell_type": "code",
   "execution_count": 14,
   "metadata": {},
   "outputs": [],
   "source": [
    "# Zmiana nazwy kolumny 'origin_city_name' na 'destination_city_name' w ramce danych airport_list_df\n",
    "airport_list_df.rename(columns={'origin_city_name': 'destination_city_name'}, inplace=True)\n",
    "\n",
    "# Złączenie ramki flight_df z airport_list_df na podstawie destination_airport_id i origin_airport_id\n",
    "flight_df = pd.merge(flight_df, airport_list_df[['origin_airport_id', 'destination_city_name']], how='left', left_on='dest_airport_id', right_on='origin_airport_id')"
   ]
  },
  {
   "cell_type": "markdown",
   "metadata": {},
   "source": [
    " ## Analiza według lotnisk oraz tras  \n",
    " 1. Wyznaczenie lotnisk, z których **odlatywało** najwięcej samolotów -> ramka`top_airports_origin_df`.\n",
    " 2. Wyznaczenie lotnika, na których najwięcej lotów **się kończyło** -> ramka `top_airports_destination_df`.  \n",
    " 3. Wyznaczenie najczęściej uczęszczaną trasę -> ramka `top_route_df`.  \n",
    " 4. Przy założeniu, że reprezentatywna liczba lotów na trasie wynosi ponad 500, dodatkowo top 10:  \n",
    "     - tras z **najmniejszym odsetkiem opóźnień** -> ramka `least_route_delays_df`.  \n",
    "     - tras z **największym odsetkiem opóźnień** -> ramka `top_route_delays_df`."
   ]
  },
  {
   "cell_type": "code",
   "execution_count": 16,
   "metadata": {},
   "outputs": [
    {
     "data": {
      "text/html": [
       "<div>\n",
       "<style scoped>\n",
       "    .dataframe tbody tr th:only-of-type {\n",
       "        vertical-align: middle;\n",
       "    }\n",
       "\n",
       "    .dataframe tbody tr th {\n",
       "        vertical-align: top;\n",
       "    }\n",
       "\n",
       "    .dataframe thead th {\n",
       "        text-align: right;\n",
       "    }\n",
       "</style>\n",
       "<table border=\"1\" class=\"dataframe\">\n",
       "  <thead>\n",
       "    <tr style=\"text-align: right;\">\n",
       "      <th></th>\n",
       "      <th>origin_airport_id_x</th>\n",
       "      <th>count</th>\n",
       "    </tr>\n",
       "  </thead>\n",
       "  <tbody>\n",
       "    <tr>\n",
       "      <th>1</th>\n",
       "      <td>10397</td>\n",
       "      <td>123162</td>\n",
       "    </tr>\n",
       "    <tr>\n",
       "      <th>28</th>\n",
       "      <td>13930</td>\n",
       "      <td>105437</td>\n",
       "    </tr>\n",
       "    <tr>\n",
       "      <th>20</th>\n",
       "      <td>12892</td>\n",
       "      <td>87849</td>\n",
       "    </tr>\n",
       "    <tr>\n",
       "      <th>8</th>\n",
       "      <td>11292</td>\n",
       "      <td>64525</td>\n",
       "    </tr>\n",
       "    <tr>\n",
       "      <th>21</th>\n",
       "      <td>12953</td>\n",
       "      <td>57708</td>\n",
       "    </tr>\n",
       "  </tbody>\n",
       "</table>\n",
       "</div>"
      ],
      "text/plain": [
       "    origin_airport_id_x   count\n",
       "1                 10397  123162\n",
       "28                13930  105437\n",
       "20                12892   87849\n",
       "8                 11292   64525\n",
       "21                12953   57708"
      ]
     },
     "execution_count": 16,
     "metadata": {},
     "output_type": "execute_result"
    }
   ],
   "source": [
    "top_airports_origin_df = flight_df.groupby('origin_airport_id_x').size().reset_index(name='count').sort_values(by='count', ascending=False).head(5)\n",
    "top_airports_origin_df"
   ]
  },
  {
   "cell_type": "markdown",
   "metadata": {},
   "source": [
    "Ramka `top_airports_destination_df`"
   ]
  },
  {
   "cell_type": "code",
   "execution_count": 17,
   "metadata": {},
   "outputs": [
    {
     "data": {
      "text/plain": [
       "dest_airport_id\n",
       "10397    122945\n",
       "13930    100333\n",
       "12892     87776\n",
       "11292     64602\n",
       "12953     57686\n",
       "10721     56057\n",
       "14747     50230\n",
       "14771     49999\n",
       "11298     39488\n",
       "12889     38494\n",
       "Name: count, dtype: int64"
      ]
     },
     "execution_count": 17,
     "metadata": {},
     "output_type": "execute_result"
    }
   ],
   "source": [
    "# top_airports_destination_df = flight_df.groupby('dest_airport_id').size().reset_index(name='count').sort_values(by='count', ascending=False).head(5)\n",
    "top_airports_destination_df = flight_df['dest_airport_id'].value_counts().head(10)\n",
    "top_airports_destination_df"
   ]
  },
  {
   "cell_type": "markdown",
   "metadata": {},
   "source": [
    "Obliczenia ramki `top_routes_df`"
   ]
  },
  {
   "cell_type": "code",
   "execution_count": 19,
   "metadata": {},
   "outputs": [
    {
     "data": {
      "text/html": [
       "<div>\n",
       "<style scoped>\n",
       "    .dataframe tbody tr th:only-of-type {\n",
       "        vertical-align: middle;\n",
       "    }\n",
       "\n",
       "    .dataframe tbody tr th {\n",
       "        vertical-align: top;\n",
       "    }\n",
       "\n",
       "    .dataframe thead th {\n",
       "        text-align: right;\n",
       "    }\n",
       "</style>\n",
       "<table border=\"1\" class=\"dataframe\">\n",
       "  <thead>\n",
       "    <tr style=\"text-align: right;\">\n",
       "      <th></th>\n",
       "      <th>origin_airport_id_x</th>\n",
       "      <th>dest_airport_id</th>\n",
       "      <th>count</th>\n",
       "    </tr>\n",
       "  </thead>\n",
       "  <tbody>\n",
       "    <tr>\n",
       "      <th>113</th>\n",
       "      <td>13930</td>\n",
       "      <td>12953</td>\n",
       "      <td>14219</td>\n",
       "    </tr>\n",
       "  </tbody>\n",
       "</table>\n",
       "</div>"
      ],
      "text/plain": [
       "     origin_airport_id_x  dest_airport_id  count\n",
       "113                13930            12953  14219"
      ]
     },
     "execution_count": 19,
     "metadata": {},
     "output_type": "execute_result"
    }
   ],
   "source": [
    "top_routes_df = flight_df.groupby(['origin_airport_id_x', 'dest_airport_id']).size().reset_index(name='count').sort_values(by='count', ascending=False).head(1)\n",
    "top_routes_df"
   ]
  },
  {
   "cell_type": "markdown",
   "metadata": {},
   "source": [
    "Obliczenia top 10"
   ]
  },
  {
   "cell_type": "code",
   "execution_count": 20,
   "metadata": {},
   "outputs": [
    {
     "data": {
      "text/html": [
       "<div>\n",
       "<style scoped>\n",
       "    .dataframe tbody tr th:only-of-type {\n",
       "        vertical-align: middle;\n",
       "    }\n",
       "\n",
       "    .dataframe tbody tr th {\n",
       "        vertical-align: top;\n",
       "    }\n",
       "\n",
       "    .dataframe thead th {\n",
       "        text-align: right;\n",
       "    }\n",
       "</style>\n",
       "<table border=\"1\" class=\"dataframe\">\n",
       "  <thead>\n",
       "    <tr style=\"text-align: right;\">\n",
       "      <th></th>\n",
       "      <th>origin_airport_id_x</th>\n",
       "      <th>dest_airport_id</th>\n",
       "      <th>counts</th>\n",
       "    </tr>\n",
       "  </thead>\n",
       "  <tbody>\n",
       "    <tr>\n",
       "      <th>113</th>\n",
       "      <td>13930</td>\n",
       "      <td>12953</td>\n",
       "      <td>14219</td>\n",
       "    </tr>\n",
       "    <tr>\n",
       "      <th>91</th>\n",
       "      <td>12953</td>\n",
       "      <td>13930</td>\n",
       "      <td>14203</td>\n",
       "    </tr>\n",
       "    <tr>\n",
       "      <th>83</th>\n",
       "      <td>12892</td>\n",
       "      <td>14771</td>\n",
       "      <td>14096</td>\n",
       "    </tr>\n",
       "    <tr>\n",
       "      <th>141</th>\n",
       "      <td>14771</td>\n",
       "      <td>12892</td>\n",
       "      <td>14088</td>\n",
       "    </tr>\n",
       "    <tr>\n",
       "      <th>78</th>\n",
       "      <td>12892</td>\n",
       "      <td>12478</td>\n",
       "      <td>12797</td>\n",
       "    </tr>\n",
       "    <tr>\n",
       "      <th>68</th>\n",
       "      <td>12478</td>\n",
       "      <td>12892</td>\n",
       "      <td>12736</td>\n",
       "    </tr>\n",
       "    <tr>\n",
       "      <th>79</th>\n",
       "      <td>12892</td>\n",
       "      <td>12889</td>\n",
       "      <td>11628</td>\n",
       "    </tr>\n",
       "    <tr>\n",
       "      <th>71</th>\n",
       "      <td>12889</td>\n",
       "      <td>12892</td>\n",
       "      <td>11616</td>\n",
       "    </tr>\n",
       "    <tr>\n",
       "      <th>62</th>\n",
       "      <td>12173</td>\n",
       "      <td>13830</td>\n",
       "      <td>10725</td>\n",
       "    </tr>\n",
       "    <tr>\n",
       "      <th>102</th>\n",
       "      <td>13830</td>\n",
       "      <td>12173</td>\n",
       "      <td>10718</td>\n",
       "    </tr>\n",
       "  </tbody>\n",
       "</table>\n",
       "</div>"
      ],
      "text/plain": [
       "     origin_airport_id_x  dest_airport_id  counts\n",
       "113                13930            12953   14219\n",
       "91                 12953            13930   14203\n",
       "83                 12892            14771   14096\n",
       "141                14771            12892   14088\n",
       "78                 12892            12478   12797\n",
       "68                 12478            12892   12736\n",
       "79                 12892            12889   11628\n",
       "71                 12889            12892   11616\n",
       "62                 12173            13830   10725\n",
       "102                13830            12173   10718"
      ]
     },
     "execution_count": 20,
     "metadata": {},
     "output_type": "execute_result"
    }
   ],
   "source": [
    "routes_over_500 = flight_df.groupby(['origin_airport_id_x', 'dest_airport_id']).size().reset_index(name='counts').sort_values(by='counts', ascending=False)\n",
    "routes_over_500 = routes_over_500[routes_over_500['counts'] > 500].head(10)\n",
    "routes_over_500"
   ]
  },
  {
   "cell_type": "code",
   "execution_count": 21,
   "metadata": {},
   "outputs": [
    {
     "data": {
      "text/html": [
       "<div>\n",
       "<style scoped>\n",
       "    .dataframe tbody tr th:only-of-type {\n",
       "        vertical-align: middle;\n",
       "    }\n",
       "\n",
       "    .dataframe tbody tr th {\n",
       "        vertical-align: top;\n",
       "    }\n",
       "\n",
       "    .dataframe thead th {\n",
       "        text-align: right;\n",
       "    }\n",
       "</style>\n",
       "<table border=\"1\" class=\"dataframe\">\n",
       "  <thead>\n",
       "    <tr style=\"text-align: right;\">\n",
       "      <th></th>\n",
       "      <th>origin_airport_id_x</th>\n",
       "      <th>dest_airport_id</th>\n",
       "      <th>counts</th>\n",
       "      <th>delay_counts</th>\n",
       "      <th>delay_percentage</th>\n",
       "    </tr>\n",
       "  </thead>\n",
       "  <tbody>\n",
       "    <tr>\n",
       "      <th>0</th>\n",
       "      <td>13930</td>\n",
       "      <td>12953</td>\n",
       "      <td>14219</td>\n",
       "      <td>5897</td>\n",
       "      <td>41.472677</td>\n",
       "    </tr>\n",
       "    <tr>\n",
       "      <th>1</th>\n",
       "      <td>12953</td>\n",
       "      <td>13930</td>\n",
       "      <td>14203</td>\n",
       "      <td>5125</td>\n",
       "      <td>36.083926</td>\n",
       "    </tr>\n",
       "    <tr>\n",
       "      <th>2</th>\n",
       "      <td>12892</td>\n",
       "      <td>14771</td>\n",
       "      <td>14096</td>\n",
       "      <td>5164</td>\n",
       "      <td>36.634506</td>\n",
       "    </tr>\n",
       "    <tr>\n",
       "      <th>3</th>\n",
       "      <td>14771</td>\n",
       "      <td>12892</td>\n",
       "      <td>14088</td>\n",
       "      <td>4853</td>\n",
       "      <td>34.447757</td>\n",
       "    </tr>\n",
       "    <tr>\n",
       "      <th>4</th>\n",
       "      <td>12892</td>\n",
       "      <td>12478</td>\n",
       "      <td>12797</td>\n",
       "      <td>4935</td>\n",
       "      <td>38.563726</td>\n",
       "    </tr>\n",
       "    <tr>\n",
       "      <th>5</th>\n",
       "      <td>12478</td>\n",
       "      <td>12892</td>\n",
       "      <td>12736</td>\n",
       "      <td>3490</td>\n",
       "      <td>27.402638</td>\n",
       "    </tr>\n",
       "    <tr>\n",
       "      <th>6</th>\n",
       "      <td>12892</td>\n",
       "      <td>12889</td>\n",
       "      <td>11628</td>\n",
       "      <td>4376</td>\n",
       "      <td>37.633299</td>\n",
       "    </tr>\n",
       "    <tr>\n",
       "      <th>7</th>\n",
       "      <td>12889</td>\n",
       "      <td>12892</td>\n",
       "      <td>11616</td>\n",
       "      <td>4256</td>\n",
       "      <td>36.639118</td>\n",
       "    </tr>\n",
       "    <tr>\n",
       "      <th>8</th>\n",
       "      <td>12173</td>\n",
       "      <td>13830</td>\n",
       "      <td>10725</td>\n",
       "      <td>2670</td>\n",
       "      <td>24.895105</td>\n",
       "    </tr>\n",
       "    <tr>\n",
       "      <th>9</th>\n",
       "      <td>13830</td>\n",
       "      <td>12173</td>\n",
       "      <td>10718</td>\n",
       "      <td>2913</td>\n",
       "      <td>27.178578</td>\n",
       "    </tr>\n",
       "  </tbody>\n",
       "</table>\n",
       "</div>"
      ],
      "text/plain": [
       "   origin_airport_id_x  dest_airport_id  counts  delay_counts  \\\n",
       "0                13930            12953   14219          5897   \n",
       "1                12953            13930   14203          5125   \n",
       "2                12892            14771   14096          5164   \n",
       "3                14771            12892   14088          4853   \n",
       "4                12892            12478   12797          4935   \n",
       "5                12478            12892   12736          3490   \n",
       "6                12892            12889   11628          4376   \n",
       "7                12889            12892   11616          4256   \n",
       "8                12173            13830   10725          2670   \n",
       "9                13830            12173   10718          2913   \n",
       "\n",
       "   delay_percentage  \n",
       "0         41.472677  \n",
       "1         36.083926  \n",
       "2         36.634506  \n",
       "3         34.447757  \n",
       "4         38.563726  \n",
       "5         27.402638  \n",
       "6         37.633299  \n",
       "7         36.639118  \n",
       "8         24.895105  \n",
       "9         27.178578  "
      ]
     },
     "execution_count": 21,
     "metadata": {},
     "output_type": "execute_result"
    }
   ],
   "source": [
    "# połaczenie z informacją o liczbie lotów:\n",
    "delays_on_routes = flight_df[flight_df['dep_delay'] > 0].groupby(['origin_airport_id_x', 'dest_airport_id']).size().reset_index(name='delay_counts')\n",
    "routes_with_delays = routes_over_500.merge(delays_on_routes, on=['origin_airport_id_x', 'dest_airport_id'], how='left').fillna(0)\n",
    "routes_with_delays['delay_percentage'] = routes_with_delays['delay_counts'] / routes_with_delays['counts'] * 100\n",
    "routes_with_delays"
   ]
  },
  {
   "cell_type": "code",
   "execution_count": 22,
   "metadata": {},
   "outputs": [
    {
     "data": {
      "text/html": [
       "<div>\n",
       "<style scoped>\n",
       "    .dataframe tbody tr th:only-of-type {\n",
       "        vertical-align: middle;\n",
       "    }\n",
       "\n",
       "    .dataframe tbody tr th {\n",
       "        vertical-align: top;\n",
       "    }\n",
       "\n",
       "    .dataframe thead th {\n",
       "        text-align: right;\n",
       "    }\n",
       "</style>\n",
       "<table border=\"1\" class=\"dataframe\">\n",
       "  <thead>\n",
       "    <tr style=\"text-align: right;\">\n",
       "      <th></th>\n",
       "      <th>origin_airport_id_x</th>\n",
       "      <th>dest_airport_id</th>\n",
       "      <th>counts</th>\n",
       "      <th>delay_counts</th>\n",
       "      <th>delay_percentage</th>\n",
       "    </tr>\n",
       "  </thead>\n",
       "  <tbody>\n",
       "    <tr>\n",
       "      <th>8</th>\n",
       "      <td>12173</td>\n",
       "      <td>13830</td>\n",
       "      <td>10725</td>\n",
       "      <td>2670</td>\n",
       "      <td>24.895105</td>\n",
       "    </tr>\n",
       "    <tr>\n",
       "      <th>9</th>\n",
       "      <td>13830</td>\n",
       "      <td>12173</td>\n",
       "      <td>10718</td>\n",
       "      <td>2913</td>\n",
       "      <td>27.178578</td>\n",
       "    </tr>\n",
       "    <tr>\n",
       "      <th>5</th>\n",
       "      <td>12478</td>\n",
       "      <td>12892</td>\n",
       "      <td>12736</td>\n",
       "      <td>3490</td>\n",
       "      <td>27.402638</td>\n",
       "    </tr>\n",
       "    <tr>\n",
       "      <th>3</th>\n",
       "      <td>14771</td>\n",
       "      <td>12892</td>\n",
       "      <td>14088</td>\n",
       "      <td>4853</td>\n",
       "      <td>34.447757</td>\n",
       "    </tr>\n",
       "    <tr>\n",
       "      <th>1</th>\n",
       "      <td>12953</td>\n",
       "      <td>13930</td>\n",
       "      <td>14203</td>\n",
       "      <td>5125</td>\n",
       "      <td>36.083926</td>\n",
       "    </tr>\n",
       "    <tr>\n",
       "      <th>2</th>\n",
       "      <td>12892</td>\n",
       "      <td>14771</td>\n",
       "      <td>14096</td>\n",
       "      <td>5164</td>\n",
       "      <td>36.634506</td>\n",
       "    </tr>\n",
       "    <tr>\n",
       "      <th>7</th>\n",
       "      <td>12889</td>\n",
       "      <td>12892</td>\n",
       "      <td>11616</td>\n",
       "      <td>4256</td>\n",
       "      <td>36.639118</td>\n",
       "    </tr>\n",
       "    <tr>\n",
       "      <th>6</th>\n",
       "      <td>12892</td>\n",
       "      <td>12889</td>\n",
       "      <td>11628</td>\n",
       "      <td>4376</td>\n",
       "      <td>37.633299</td>\n",
       "    </tr>\n",
       "    <tr>\n",
       "      <th>4</th>\n",
       "      <td>12892</td>\n",
       "      <td>12478</td>\n",
       "      <td>12797</td>\n",
       "      <td>4935</td>\n",
       "      <td>38.563726</td>\n",
       "    </tr>\n",
       "    <tr>\n",
       "      <th>0</th>\n",
       "      <td>13930</td>\n",
       "      <td>12953</td>\n",
       "      <td>14219</td>\n",
       "      <td>5897</td>\n",
       "      <td>41.472677</td>\n",
       "    </tr>\n",
       "  </tbody>\n",
       "</table>\n",
       "</div>"
      ],
      "text/plain": [
       "   origin_airport_id_x  dest_airport_id  counts  delay_counts  \\\n",
       "8                12173            13830   10725          2670   \n",
       "9                13830            12173   10718          2913   \n",
       "5                12478            12892   12736          3490   \n",
       "3                14771            12892   14088          4853   \n",
       "1                12953            13930   14203          5125   \n",
       "2                12892            14771   14096          5164   \n",
       "7                12889            12892   11616          4256   \n",
       "6                12892            12889   11628          4376   \n",
       "4                12892            12478   12797          4935   \n",
       "0                13930            12953   14219          5897   \n",
       "\n",
       "   delay_percentage  \n",
       "8         24.895105  \n",
       "9         27.178578  \n",
       "5         27.402638  \n",
       "3         34.447757  \n",
       "1         36.083926  \n",
       "2         36.634506  \n",
       "7         36.639118  \n",
       "6         37.633299  \n",
       "4         38.563726  \n",
       "0         41.472677  "
      ]
     },
     "execution_count": 22,
     "metadata": {},
     "output_type": "execute_result"
    }
   ],
   "source": [
    "# tras z najmniejszym odsetkiem opóźnień:\n",
    "least_route_delays_df = routes_with_delays.sort_values(by='delay_percentage').head(10)\n",
    "least_route_delays_df"
   ]
  },
  {
   "cell_type": "code",
   "execution_count": 23,
   "metadata": {},
   "outputs": [
    {
     "data": {
      "text/html": [
       "<div>\n",
       "<style scoped>\n",
       "    .dataframe tbody tr th:only-of-type {\n",
       "        vertical-align: middle;\n",
       "    }\n",
       "\n",
       "    .dataframe tbody tr th {\n",
       "        vertical-align: top;\n",
       "    }\n",
       "\n",
       "    .dataframe thead th {\n",
       "        text-align: right;\n",
       "    }\n",
       "</style>\n",
       "<table border=\"1\" class=\"dataframe\">\n",
       "  <thead>\n",
       "    <tr style=\"text-align: right;\">\n",
       "      <th></th>\n",
       "      <th>origin_airport_id_x</th>\n",
       "      <th>dest_airport_id</th>\n",
       "      <th>counts</th>\n",
       "      <th>delay_counts</th>\n",
       "      <th>delay_percentage</th>\n",
       "    </tr>\n",
       "  </thead>\n",
       "  <tbody>\n",
       "    <tr>\n",
       "      <th>0</th>\n",
       "      <td>13930</td>\n",
       "      <td>12953</td>\n",
       "      <td>14219</td>\n",
       "      <td>5897</td>\n",
       "      <td>41.472677</td>\n",
       "    </tr>\n",
       "    <tr>\n",
       "      <th>4</th>\n",
       "      <td>12892</td>\n",
       "      <td>12478</td>\n",
       "      <td>12797</td>\n",
       "      <td>4935</td>\n",
       "      <td>38.563726</td>\n",
       "    </tr>\n",
       "    <tr>\n",
       "      <th>6</th>\n",
       "      <td>12892</td>\n",
       "      <td>12889</td>\n",
       "      <td>11628</td>\n",
       "      <td>4376</td>\n",
       "      <td>37.633299</td>\n",
       "    </tr>\n",
       "    <tr>\n",
       "      <th>7</th>\n",
       "      <td>12889</td>\n",
       "      <td>12892</td>\n",
       "      <td>11616</td>\n",
       "      <td>4256</td>\n",
       "      <td>36.639118</td>\n",
       "    </tr>\n",
       "    <tr>\n",
       "      <th>2</th>\n",
       "      <td>12892</td>\n",
       "      <td>14771</td>\n",
       "      <td>14096</td>\n",
       "      <td>5164</td>\n",
       "      <td>36.634506</td>\n",
       "    </tr>\n",
       "    <tr>\n",
       "      <th>1</th>\n",
       "      <td>12953</td>\n",
       "      <td>13930</td>\n",
       "      <td>14203</td>\n",
       "      <td>5125</td>\n",
       "      <td>36.083926</td>\n",
       "    </tr>\n",
       "    <tr>\n",
       "      <th>3</th>\n",
       "      <td>14771</td>\n",
       "      <td>12892</td>\n",
       "      <td>14088</td>\n",
       "      <td>4853</td>\n",
       "      <td>34.447757</td>\n",
       "    </tr>\n",
       "    <tr>\n",
       "      <th>5</th>\n",
       "      <td>12478</td>\n",
       "      <td>12892</td>\n",
       "      <td>12736</td>\n",
       "      <td>3490</td>\n",
       "      <td>27.402638</td>\n",
       "    </tr>\n",
       "    <tr>\n",
       "      <th>9</th>\n",
       "      <td>13830</td>\n",
       "      <td>12173</td>\n",
       "      <td>10718</td>\n",
       "      <td>2913</td>\n",
       "      <td>27.178578</td>\n",
       "    </tr>\n",
       "    <tr>\n",
       "      <th>8</th>\n",
       "      <td>12173</td>\n",
       "      <td>13830</td>\n",
       "      <td>10725</td>\n",
       "      <td>2670</td>\n",
       "      <td>24.895105</td>\n",
       "    </tr>\n",
       "  </tbody>\n",
       "</table>\n",
       "</div>"
      ],
      "text/plain": [
       "   origin_airport_id_x  dest_airport_id  counts  delay_counts  \\\n",
       "0                13930            12953   14219          5897   \n",
       "4                12892            12478   12797          4935   \n",
       "6                12892            12889   11628          4376   \n",
       "7                12889            12892   11616          4256   \n",
       "2                12892            14771   14096          5164   \n",
       "1                12953            13930   14203          5125   \n",
       "3                14771            12892   14088          4853   \n",
       "5                12478            12892   12736          3490   \n",
       "9                13830            12173   10718          2913   \n",
       "8                12173            13830   10725          2670   \n",
       "\n",
       "   delay_percentage  \n",
       "0         41.472677  \n",
       "4         38.563726  \n",
       "6         37.633299  \n",
       "7         36.639118  \n",
       "2         36.634506  \n",
       "1         36.083926  \n",
       "3         34.447757  \n",
       "5         27.402638  \n",
       "9         27.178578  \n",
       "8         24.895105  "
      ]
     },
     "execution_count": 23,
     "metadata": {},
     "output_type": "execute_result"
    }
   ],
   "source": [
    "# tras z największym odsetkiem opóźnień:\n",
    "top_route_delays_df = routes_with_delays.sort_values(by='delay_percentage', ascending=False).head(10)\n",
    "top_route_delays_df"
   ]
  },
  {
   "cell_type": "markdown",
   "metadata": {},
   "source": [
    " # Wzbogacenie o dane pogodowe\n",
    "Połączenie ramki `airport_list_df` wraz z `airport_weather_df`."
   ]
  },
  {
   "cell_type": "code",
   "execution_count": 25,
   "metadata": {},
   "outputs": [],
   "source": [
    "airport_weather_df = read_sql_table('airport_weather')"
   ]
  },
  {
   "cell_type": "markdown",
   "metadata": {},
   "source": [
    "Oczyszczenie ramki `airport_weather_df` z nadmiarowych kolumn"
   ]
  },
  {
   "cell_type": "code",
   "execution_count": 26,
   "metadata": {},
   "outputs": [],
   "source": [
    "airport_weather_df = airport_weather_df[['station', 'name', 'date', 'prcp', 'snow', 'snwd', 'tmax', 'awnd']]"
   ]
  },
  {
   "cell_type": "markdown",
   "metadata": {},
   "source": [
    " Połączenie ramki `airport_list_df` oraz `airport_weather_df` aktualizując `airport_weather_df`"
   ]
  },
  {
   "cell_type": "code",
   "execution_count": 27,
   "metadata": {},
   "outputs": [],
   "source": [
    "airport_weather_df = pd.merge(airport_weather_df, airport_list_df[['origin_airport_id','name']], how='inner', on='name')"
   ]
  },
  {
   "cell_type": "markdown",
   "metadata": {},
   "source": [
    " ## Połączenie `airport_weather_df` oraz `flight_df`"
   ]
  },
  {
   "cell_type": "code",
   "execution_count": 29,
   "metadata": {},
   "outputs": [],
   "source": [
    "airport_weather_df['date'] = pd.to_datetime(airport_weather_df['date'])"
   ]
  },
  {
   "cell_type": "code",
   "execution_count": 30,
   "metadata": {},
   "outputs": [],
   "source": [
    "flight_df['date'] = pd.to_datetime(flight_df[['year', 'month', 'day_of_month']].astype(str).agg('-'.join, axis=1))"
   ]
  },
  {
   "cell_type": "code",
   "execution_count": 32,
   "metadata": {},
   "outputs": [],
   "source": [
    "flight_df = flight_df.merge(\n",
    "    airport_weather_df,\n",
    "    left_on=['origin_airport_id_x', 'date'],\n",
    "    right_on=['origin_airport_id', 'date'],\n",
    "    how='left'\n",
    ")"
   ]
  },
  {
   "cell_type": "markdown",
   "metadata": {},
   "source": [
    "# Wpływ temperatury na opóźnienia  "
   ]
  },
  {
   "cell_type": "code",
   "execution_count": 34,
   "metadata": {},
   "outputs": [
    {
     "data": {
      "text/plain": [
       "count    1.051956e+06\n",
       "mean     7.032802e+01\n",
       "std      1.797122e+01\n",
       "min     -1.000000e+01\n",
       "25%      5.900000e+01\n",
       "50%      7.200000e+01\n",
       "75%      8.400000e+01\n",
       "max      1.150000e+02\n",
       "Name: tmax, dtype: float64"
      ]
     },
     "execution_count": 34,
     "metadata": {},
     "output_type": "execute_result"
    }
   ],
   "source": [
    "flight_df['tmax'].describe()"
   ]
  },
  {
   "cell_type": "code",
   "execution_count": 35,
   "metadata": {},
   "outputs": [
    {
     "name": "stdout",
     "output_type": "stream",
     "text": [
      "Korelacja między temperaturą maksymalną a odsetkiem opóźnień: -0.01\n"
     ]
    },
    {
     "data": {
      "image/png": "[encoded data removed]",
      "text/plain": [
       "<Figure size 640x480 with 1 Axes>"
      ]
     },
     "metadata": {},
     "output_type": "display_data"
    }
   ],
   "source": [
    "import seaborn as sns\n",
    "\n",
    "sns.boxplot(y = flight_df['tmax'])\n",
    "\n",
    "# Obliczenie korelacji:\n",
    "correlation = flight_df['tmax'].corr(flight_df['dep_delay'])\n",
    "print(f\"Korelacja między temperaturą maksymalną a odsetkiem opóźnień: {correlation:.2f}\")\n",
    "\n",
    "# wnioski: brak korelacji między temperaturą a opoznieniami"
   ]
  },
  {
   "cell_type": "code",
   "execution_count": 36,
   "metadata": {},
   "outputs": [
    {
     "data": {
      "image/png": "[encoded data removed]",
      "text/plain": [
       "<Figure size 640x480 with 1 Axes>"
      ]
     },
     "metadata": {},
     "output_type": "display_data"
    }
   ],
   "source": [
    "plt.hist(flight_df['tmax'], edgecolor='black')\n",
    "plt.xlabel('Wartość tmax')\n",
    "plt.ylabel('Częstotliwość')\n",
    "plt.title('Histogram dla kolumny tmax')\n",
    "plt.show()"
   ]
  },
  {
   "cell_type": "code",
   "execution_count": 37,
   "metadata": {},
   "outputs": [
    {
     "data": {
      "text/html": [
       "<div>\n",
       "<style scoped>\n",
       "    .dataframe tbody tr th:only-of-type {\n",
       "        vertical-align: middle;\n",
       "    }\n",
       "\n",
       "    .dataframe tbody tr th {\n",
       "        vertical-align: top;\n",
       "    }\n",
       "\n",
       "    .dataframe thead th {\n",
       "        text-align: right;\n",
       "    }\n",
       "</style>\n",
       "<table border=\"1\" class=\"dataframe\">\n",
       "  <thead>\n",
       "    <tr style=\"text-align: right;\">\n",
       "      <th></th>\n",
       "      <th>tmax</th>\n",
       "      <th>avg_delay</th>\n",
       "      <th>frequency</th>\n",
       "    </tr>\n",
       "  </thead>\n",
       "  <tbody>\n",
       "    <tr>\n",
       "      <th>0</th>\n",
       "      <td>-10.0</td>\n",
       "      <td>70.590551</td>\n",
       "      <td>127</td>\n",
       "    </tr>\n",
       "    <tr>\n",
       "      <th>1</th>\n",
       "      <td>1.0</td>\n",
       "      <td>50.623596</td>\n",
       "      <td>178</td>\n",
       "    </tr>\n",
       "    <tr>\n",
       "      <th>2</th>\n",
       "      <td>3.0</td>\n",
       "      <td>59.142857</td>\n",
       "      <td>7</td>\n",
       "    </tr>\n",
       "    <tr>\n",
       "      <th>3</th>\n",
       "      <td>5.0</td>\n",
       "      <td>43.210169</td>\n",
       "      <td>295</td>\n",
       "    </tr>\n",
       "    <tr>\n",
       "      <th>4</th>\n",
       "      <td>6.0</td>\n",
       "      <td>23.881720</td>\n",
       "      <td>186</td>\n",
       "    </tr>\n",
       "    <tr>\n",
       "      <th>...</th>\n",
       "      <td>...</td>\n",
       "      <td>...</td>\n",
       "      <td>...</td>\n",
       "    </tr>\n",
       "    <tr>\n",
       "      <th>107</th>\n",
       "      <td>111.0</td>\n",
       "      <td>9.759587</td>\n",
       "      <td>678</td>\n",
       "    </tr>\n",
       "    <tr>\n",
       "      <th>108</th>\n",
       "      <td>112.0</td>\n",
       "      <td>10.464373</td>\n",
       "      <td>407</td>\n",
       "    </tr>\n",
       "    <tr>\n",
       "      <th>109</th>\n",
       "      <td>113.0</td>\n",
       "      <td>10.460000</td>\n",
       "      <td>300</td>\n",
       "    </tr>\n",
       "    <tr>\n",
       "      <th>110</th>\n",
       "      <td>114.0</td>\n",
       "      <td>12.331633</td>\n",
       "      <td>588</td>\n",
       "    </tr>\n",
       "    <tr>\n",
       "      <th>111</th>\n",
       "      <td>115.0</td>\n",
       "      <td>12.736041</td>\n",
       "      <td>197</td>\n",
       "    </tr>\n",
       "  </tbody>\n",
       "</table>\n",
       "<p>112 rows × 3 columns</p>\n",
       "</div>"
      ],
      "text/plain": [
       "      tmax  avg_delay  frequency\n",
       "0    -10.0  70.590551        127\n",
       "1      1.0  50.623596        178\n",
       "2      3.0  59.142857          7\n",
       "3      5.0  43.210169        295\n",
       "4      6.0  23.881720        186\n",
       "..     ...        ...        ...\n",
       "107  111.0   9.759587        678\n",
       "108  112.0  10.464373        407\n",
       "109  113.0  10.460000        300\n",
       "110  114.0  12.331633        588\n",
       "111  115.0  12.736041        197\n",
       "\n",
       "[112 rows x 3 columns]"
      ]
     },
     "execution_count": 37,
     "metadata": {},
     "output_type": "execute_result"
    }
   ],
   "source": [
    "# średnią wartość opóźnień dla poszczególnych temperatur maksymalnych i częstość występowania tmax\n",
    "\n",
    "average_delay_by_tmax = flight_df.groupby('tmax')['dep_delay'].agg(['mean', 'count']).reset_index()\n",
    "average_delay_by_tmax.rename(columns={'mean': 'avg_delay', 'count': 'frequency'}, inplace=True)\n",
    "average_delay_by_tmax"
   ]
  },
  {
   "cell_type": "code",
   "execution_count": 38,
   "metadata": {},
   "outputs": [
    {
     "data": {
      "image/png": "[encoded data removed]",
      "text/plain": [
       "<Figure size 1000x600 with 1 Axes>"
      ]
     },
     "metadata": {},
     "output_type": "display_data"
    }
   ],
   "source": [
    "plt.figure(figsize=(10, 6))\n",
    "plt.scatter(average_delay_by_tmax['tmax'], average_delay_by_tmax['avg_delay'])\n",
    "\n",
    "plt.xlabel('Temperatura maksymalna (tmax)')\n",
    "plt.ylabel('Średnie opóźnienie odlotu')\n",
    "plt.title('Zależność opóźnienia odlotu od temperatury maksymalnej')\n",
    "plt.grid(True)\n",
    "\n",
    "plt.show()"
   ]
  },
  {
   "cell_type": "code",
   "execution_count": 39,
   "metadata": {},
   "outputs": [
    {
     "name": "stdout",
     "output_type": "stream",
     "text": [
      "Procent lotów przy temperaturze poniżej 40'C': 5.94%\n"
     ]
    }
   ],
   "source": [
    "# procent lotów poniżej 40'C:\n",
    "\n",
    "filtered_flights = flight_df[flight_df['tmax'] < 40]\n",
    "percent_below_40 = (len(filtered_flights) / len(flight_df)) * 100\n",
    "\n",
    "print(f\"Procent lotów przy temperaturze poniżej 40'C': {percent_below_40:.2f}%\")"
   ]
  },
  {
   "cell_type": "code",
   "execution_count": 40,
   "metadata": {},
   "outputs": [
    {
     "name": "stdout",
     "output_type": "stream",
     "text": [
      "Procent lotów opoznionych przy temperaturze poniżej 40'C': 25.69%\n"
     ]
    }
   ],
   "source": [
    "# jaki procent lotów poniżej 40'C jest opozniony?: \n",
    "\n",
    "filtered_flights_2 = filtered_flights[filtered_flights['is_delayed']==True]\n",
    "filtered_flights_40 = (len(filtered_flights_2) / len(filtered_flights)) * 100\n",
    "\n",
    "print(f\"Procent lotów opoznionych przy temperaturze poniżej 40'C': {filtered_flights_40:.2f}%\")"
   ]
  },
  {
   "cell_type": "markdown",
   "metadata": {},
   "source": [
    "# Wnioski: \n",
    "Wpływ temperatury na opóźnienia występuje jedynie w przypadku 5,94% lotów. Co świadczy o tym że nie ma istotnej korelacji między opoznieniami a temperaturą. Dla lotów w temperaturze mniejszej niż 40 prawdopodobienstwo wystopienia opoznienia zwieksza sie - w tym przedziale występuje 25.69% opoznien"
   ]
  }
 ],
 "metadata": {
  "kernelspec": {
   "display_name": "Python 3 (ipykernel)",
   "language": "python",
   "name": "python3"
  },
  "language_info": {
   "codemirror_mode": {
    "name": "ipython",
    "version": 3
   },
   "file_extension": ".py",
   "mimetype": "text/x-python",
   "name": "python",
   "nbconvert_exporter": "python",
   "pygments_lexer": "ipython3",
   "version": "3.11.5"
  },
  "vscode": {
   "interpreter": {
    "hash": "38d75d0df746d7f75dd34c5d1915af59cb55786647bd68b8d9064425d7680b12"
   }
  }
 },
 "nbformat": 4,
 "nbformat_minor": 2
}
