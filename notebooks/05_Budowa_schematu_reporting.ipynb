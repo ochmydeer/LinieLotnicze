{
 "cells": [
  {
   "cell_type": "markdown",
   "metadata": {},
   "source": [
    " # Opis notatnika\n",
    " Przygotowanie raportu używając `Dash` na podstawie danych z roku 2020."
   ]
  },
  {
   "cell_type": "markdown",
   "metadata": {},
   "source": [
    " # Wymagania biznesowe\n",
    " Po prezentacji wyników analizy na niezależnym spotkaniu, zostały określone następujące obszary raportowania odsetka opóźnień lotów:  \n",
    " 1. Wyświetlanie TOP 10 (w sensie najwyższego odsetka opóźnień) lotnisk na podstawie liczby odlotów, wyświetlona ma być również informacja o liczbie przylotów - widok `top_airports_by_departure`.  \n",
    " 1. Wyświetlenie TOP 10 (w sensie najwyższego odsetka opóźnień) tras lotów. Przy czym istotna dla nas jest kolejność, przykładowo trasa (Warszawa, Paryż) jest inna niż (Paryż, Warszawa). Dodatkowym wymaganiem jest, aby minimalna liczba lotów odbytych na trasie wynosiła co najmniej 10000 przelotów - widok `top_reliability_roads`.  \n",
    " 1. Porównanie roku 2019 vs. 2020, aby śledzić wpływ COVID na realizację lotów. Interesują nas podejścia:  \n",
    "     - miesiąc do miesiąca, przykładowo odsetek opoźnień styczeń 2019 vs. odsetek opoźnień styczeń 2020, odsetek opoźnień luty 2019 vs. odsetek opoźnień luty 2020 itd. - widok `year_to_year_comparision`,  \n",
    "     - dzień do dnia, przykładowo odsetek opoźnień wtorek 2019 vs. odsetek opoźnień wtorek 2020 - widok `day_to_day_comparision`.  \n",
    " 1. Dzienny, czyli jak danego dnia, globalnie wyglądał wskaźnik opóźnień lotów samolotu, tj. odsetek opóźnień 01-01-2019, odsetek opóźnień 02-01-2019 itd."
   ]
  },
  {
   "cell_type": "markdown",
   "metadata": {},
   "source": [
    " # Przygotowanie bazy danych\n",
    " Na bazie danych umieszczone są dane na schemacie `public`. Ponieważ zgodnie z wymaganiami otrzymuje nowy obszar wykorzystania danych, stworze schemat dedykowany - `reporting`.  \n",
    " Dalej stworzę widoki, które odpowiedzą na zadane wcześniej pytania."
   ]
  },
  {
   "cell_type": "markdown",
   "metadata": {},
   "source": [
    " # Aktualizacja bazy danych\n",
    " Skonfiguruj połączenie do bazy danych."
   ]
  },
  {
   "cell_type": "code",
   "execution_count": 1,
   "metadata": {},
   "outputs": [],
   "source": [
    "import pandas as pd\n",
    "import psycopg2\n",
    "import matplotlib as plt\n",
    "import matplotlib.pyplot as plt"
   ]
  },
  {
   "cell_type": "markdown",
   "metadata": {},
   "source": [
    " ## Konfiguracja połączenia"
   ]
  },
  {
   "cell_type": "code",
   "execution_count": 2,
   "metadata": {},
   "outputs": [],
   "source": [
    "username = ''\n",
    "password = ''\n",
    "\n",
    "host = 'localhost'\n",
    "database = 'airlines'\n",
    "port = 5432"
   ]
  },
  {
   "cell_type": "code",
   "execution_count": 3,
   "metadata": {},
   "outputs": [],
   "source": [
    "con = psycopg2.connect(user=username, password=password, host=host, database=database)\n",
    "cursor = con.cursor()"
   ]
  },
  {
   "cell_type": "markdown",
   "metadata": {},
   "source": [
    " ## Wczytanie pliku `reporting.sql`"
   ]
  },
  {
   "cell_type": "code",
   "execution_count": 4,
   "metadata": {},
   "outputs": [],
   "source": [
    "with open('../sql/reporting.sql', 'r') as schema_file:\n",
    "    schema_queries = schema_file.read()"
   ]
  },
  {
   "cell_type": "code",
   "execution_count": 5,
   "metadata": {},
   "outputs": [],
   "source": [
    "cursor.execute('CREATE SCHEMA IF NOT EXISTS reporting');\n",
    "\n",
    "queries_list = schema_queries.split(';')"
   ]
  },
  {
   "cell_type": "code",
   "execution_count": 6,
   "metadata": {},
   "outputs": [
    {
     "name": "stdout",
     "output_type": "stream",
     "text": [
      "CREATE SCHEMA IF NOT EXISTS reporting\n",
      "\n",
      "\n",
      "/*\n",
      "\n",
      "Tutaj napisz definicjÄ™ widoku reporting.flight, ktĂłra:\n",
      "- bÄ™dzie usuwaÄ‡ dane o lotach anulowanych `cancelled = 0`\n",
      "- bÄ™dzie zawieraÄ‡ kolumnÄ™ `is_delayed`, zgodnie z wczeĹ›niejszÄ… definicjÄ… tj. `is_delayed = 1 if dep_delay_new > 0 else 0` (zaimplementowana w SQL)\n",
      "*/\n",
      "CREATE OR REPLACE VIEW reporting.flight AS\n",
      "SELECT\n",
      "    *,\n",
      "    CASE WHEN dep_delay_new > 0 THEN 1 ELSE 0 END AS is_delayed\n",
      "FROM\n",
      "    flight\n",
      "WHERE\n",
      "    cancelled = 0\n",
      "\n",
      "\n",
      "/*\n",
      "Tutaj napisz definicjÄ™ widoku reporting.top_reliability_roads, ktĂłra bÄ™dzie zawieraĹ‚a nastÄ™pujÄ…ce kolumny:\n",
      "- `origin_airport_id`,\n",
      "- `origin_airport_name`,\n",
      "- `dest_airport_id`,\n",
      "- `dest_airport_name`,\n",
      "- `year`,\n",
      "- `cnt` - jako liczba wykonananych lotĂłw na danej trasie,\n",
      "- `reliability` - jako odsetek opĂłĹşnieĹ„ na danej trasie,\n",
      "- `nb` - numerowane od 1, 2, 3 wedĹ‚ug kolumny `reliability`. W przypadku takich samych wartoĹ›ci powino zwrĂłciÄ‡ 1, 2, 2, 3... \n",
      "PamiÄ™taj o tym, ĹĽe w wyniku powinny pojawiÄ‡ siÄ™ takie trasy, na ktĂłrych odbyĹ‚o siÄ™ ponad 10000 lotĂłw.\n",
      "*/\n",
      "\n",
      "CREATE OR REPLACE VIEW reporting.top_reliability_roads AS\n",
      "SELECT\n",
      "    f.origin_airport_id,\n",
      "    ao.display_airport_name AS origin_airport_name,\n",
      "    f.dest_airport_id,\n",
      "    ad.display_airport_name AS dest_airport_name,\n",
      "    f.year,\n",
      "    COUNT(*) AS cnt,\n",
      "    AVG(CASE WHEN f.is_delayed = 1 THEN 1 ELSE 0 END) AS reliability,\n",
      "    DENSE_RANK() OVER (ORDER BY AVG(CASE WHEN f.is_delayed = 1 THEN 1 ELSE 0 END) DESC) AS nb\n",
      "FROM\n",
      "    reporting.flight f\n",
      "JOIN\n",
      "    airport_list ao ON f.origin_airport_id = ao.origin_airport_id\n",
      "JOIN\n",
      "    airport_list ad ON f.dest_airport_id = ad.origin_airport_id\n",
      "GROUP BY\n",
      "    f.origin_airport_id, ao.display_airport_name, f.dest_airport_id, ad.display_airport_name, f.year\n",
      "HAVING\n",
      "    COUNT(*) > 10000\n",
      "\n",
      "/*\n",
      "Tutaj napisz definicjÄ™ widoku reporting.year_to_year_comparision, ktĂłra bÄ™dzie zawieraĹ‚ nastÄ™pujÄ…ce kolumny:\n",
      "- `year`\n",
      "- `month`,\n",
      "- `flights_amount`\n",
      "- `reliability`\n",
      "*/\n",
      "\n",
      "CREATE OR REPLACE VIEW reporting.year_to_year_comparision AS\n",
      "SELECT\n",
      "    year,\n",
      "    month,\n",
      "    COUNT(*) AS flights_amount,\n",
      "    AVG(CASE WHEN dep_delay_new > 0 THEN 1 ELSE 0 END) AS reliability\n",
      "FROM\n",
      "    flight\n",
      "GROUP BY\n",
      "    year, month\n",
      "\n",
      "\n",
      "/*\n",
      "Tutaj napisz definicjÄ™ widoku reporting.day_to_day_comparision, ktĂłry bÄ™dzie zawieraĹ‚ nastÄ™pujÄ…ce kolumny:\n",
      "- `year`\n",
      "- `day_of_week`\n",
      "- `flights_amount`\n",
      "*/\n",
      "CREATE OR REPLACE VIEW reporting.day_to_day_comparision AS\n",
      "SELECT\n",
      "    year,\n",
      "    day_of_week,\n",
      "    COUNT(*) AS flights_amount\n",
      "FROM\n",
      "    flight\n",
      "GROUP BY\n",
      "    year, day_of_week\n",
      "\n",
      "\n",
      "/*\n",
      "Tutaj napisz definicjÄ™ widoku reporting.day_by_day_reliability, ktory bÄ™dzie zawieraĹ‚ nastÄ™pujÄ…ce kolumny:\n",
      "- `date` jako zĹ‚oĹĽenie kolumn `year`, `month`, `day`, powinna byÄ‡ typu `date`\n",
      "- `reliability` jako odsetek opĂłĹşnieĹ„ danego dnia\n",
      "*/\n",
      "CREATE OR REPLACE VIEW reporting.day_by_day_reliability AS\n",
      "SELECT\n",
      "    TO_DATE(CONCAT(f.year, '-', LPAD(f.month::TEXT, 2, '0'), '-', LPAD(f.day_of_month::TEXT, 2, '0')), 'YYYY-MM-DD') AS date,\n",
      "    AVG(CASE WHEN dep_delay_new > 0 THEN 1 ELSE 0 END) AS reliability\n",
      "FROM\n",
      "    flight f\n",
      "GROUP BY\n",
      "    date\n"
     ]
    }
   ],
   "source": [
    "for queries in queries_list:\n",
    "    print(queries)\n",
    "    cursor.execute(queries)"
   ]
  },
  {
   "cell_type": "code",
   "execution_count": 7,
   "metadata": {},
   "outputs": [],
   "source": [
    "con.commit()"
   ]
  },
  {
   "cell_type": "code",
   "execution_count": 11,
   "metadata": {},
   "outputs": [
    {
     "name": "stdout",
     "output_type": "stream",
     "text": [
      "Wszystko wygląda OK :) Możesz przejść do kolejnego zadania.\n"
     ]
    }
   ],
   "source": [
    "con.close()"
   ]
  }
 ],
 "metadata": {
  "kernelspec": {
   "display_name": "Python 3 (ipykernel)",
   "language": "python",
   "name": "python3"
  },
  "language_info": {
   "codemirror_mode": {
    "name": "ipython",
    "version": 3
   },
   "file_extension": ".py",
   "mimetype": "text/x-python",
   "name": "python",
   "nbconvert_exporter": "python",
   "pygments_lexer": "ipython3",
   "version": "3.11.5"
  },
  "vscode": {
   "interpreter": {
    "hash": "38d75d0df746d7f75dd34c5d1915af59cb55786647bd68b8d9064425d7680b12"
   }
  }
 },
 "nbformat": 4,
 "nbformat_minor": 2
}
