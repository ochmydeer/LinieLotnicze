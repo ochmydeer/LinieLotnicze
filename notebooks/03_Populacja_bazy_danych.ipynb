{
 "cells": [
  {
   "cell_type": "markdown",
   "metadata": {},
   "source": [
    " # Opis notatnika\n",
    " Głównym celem w tym notatniku jest  odpowiednie dostosowanie struktury danych z plików źródłowych do formatu zgodnego z `Postgres`, a następnie wgranie ich na serwer."
   ]
  },
  {
   "cell_type": "markdown",
   "metadata": {},
   "source": [
    "## Połączenie z bazą danych\n",
    "Konfiguracja połączenia utwórz zmienne:\n",
    "- `username` - nazwa użytkownika bazy,\n",
    "- `password` - hasło do bazy,\n",
    "- `host` - adres naszej bazy danych, jeśli baza jest postawiona na naszej maszynie wtedy będzie to po prostu `localhost`,\n",
    "- `database` - nazwa bazy danych np. `postgresql`\n",
    "- `port` - domyślnie `5432`"
   ]
  },
  {
   "cell_type": "code",
   "execution_count": 1,
   "metadata": {},
   "outputs": [],
   "source": [
    "username = ''\n",
    "password = ''\n",
    "\n",
    "host = 'localhost'\n",
    "database = 'airlines'\n",
    "port = 5432"
   ]
  },
  {
   "cell_type": "code",
   "execution_count": 2,
   "metadata": {},
   "outputs": [],
   "source": [
    "# database.close()"
   ]
  },
  {
   "cell_type": "code",
   "execution_count": 3,
   "metadata": {},
   "outputs": [],
   "source": [
    "from sqlalchemy import create_engine\n",
    "\n",
    "url = f\"postgresql://{username}:{password}@{host}:{port}/{database}\"\n",
    "engine = create_engine(url)"
   ]
  },
  {
   "cell_type": "markdown",
   "metadata": {},
   "source": [
    " # Załadowanie ramek do obszaru roboczego\n",
    " Implementacja funkcji `load_raw_data`, parametr `file_name` - nazwa pliku do zaczytania"
   ]
  },
  {
   "cell_type": "code",
   "execution_count": 4,
   "metadata": {},
   "outputs": [],
   "source": [
    "import pandas as pd\n",
    "import psycopg2\n",
    "\n",
    "def load_raw_data(file_name):\n",
    "    df = pd.read_csv(file_name,encoding = 'utf-8', sep=';', decimal='.')\n",
    "    df.columns = [col.lower() for col in df.columns]\n",
    "    return df\n"
   ]
  },
  {
   "cell_type": "markdown",
   "metadata": {},
   "source": [
    " # Zaczytanie poszczególnych plików do ramek"
   ]
  },
  {
   "cell_type": "code",
   "execution_count": 5,
   "metadata": {},
   "outputs": [],
   "source": [
    "aircraft_df= load_raw_data(r'..\\data\\raw\\aircraft.csv')\n",
    "airport_list_df= load_raw_data(r'..\\data\\raw\\airport_list.csv')\n",
    "airport_weather_df= load_raw_data(r'..\\data\\raw\\airport_weather.csv')\n",
    "flight_df= load_raw_data(r'..\\data\\raw\\flight.csv')"
   ]
  },
  {
   "cell_type": "markdown",
   "metadata": {},
   "source": [
    " # Eksport danych na bazę\n",
    "Implementację metody `export_table_to_db`, argumenty:\n",
    " * `df` - ramka do eksportu,\n",
    " * `table_name` - nazwa ramki na bazie."
   ]
  },
  {
   "cell_type": "code",
   "execution_count": 6,
   "metadata": {},
   "outputs": [],
   "source": [
    "def export_table_to_db(df, table_name):\n",
    "    print(f\"Loading data into {table_name}...\")\n",
    "    df.to_sql(name=table_name, con=engine, if_exists='append', index=False, chunksize=1000)\n",
    "    print(f\"Data loaded into {table_name}\")"
   ]
  },
  {
   "cell_type": "code",
   "execution_count": 7,
   "metadata": {},
   "outputs": [],
   "source": [
    "# import psycopg2\n",
    "\n",
    "# connection = psycopg2.connect(\n",
    "#     host='localhost',\n",
    "#     user='postgres',  \n",
    "#     password='postgres', \n",
    "#     dbname='airlines', \n",
    "# )\n",
    "# cursor = connection.cursor()\n",
    "\n",
    "# cursor.execute(\"select * from aircraft limit 5\")\n",
    "# #     \"TRUNCATE TABLE aircraft\")"
   ]
  },
  {
   "cell_type": "markdown",
   "metadata": {},
   "source": [
    " ## Wgrywanie danych"
   ]
  },
  {
   "cell_type": "code",
   "execution_count": 8,
   "metadata": {},
   "outputs": [
    {
     "name": "stdout",
     "output_type": "stream",
     "text": [
      "Loading data into aircraft...\n",
      "Data loaded into aircraft\n"
     ]
    }
   ],
   "source": [
    "export_table_to_db(aircraft_df, 'aircraft')"
   ]
  },
  {
   "cell_type": "code",
   "execution_count": 9,
   "metadata": {},
   "outputs": [
    {
     "name": "stdout",
     "output_type": "stream",
     "text": [
      "Loading data into airport_weather...\n",
      "Data loaded into airport_weather\n"
     ]
    }
   ],
   "source": [
    "export_table_to_db(airport_weather_df, 'airport_weather')"
   ]
  },
  {
   "cell_type": "code",
   "execution_count": 10,
   "metadata": {},
   "outputs": [
    {
     "name": "stdout",
     "output_type": "stream",
     "text": [
      "Loading data into flight...\n",
      "Data loaded into flight\n"
     ]
    }
   ],
   "source": [
    "export_table_to_db(flight_df, 'flight')"
   ]
  },
  {
   "cell_type": "code",
   "execution_count": 11,
   "metadata": {},
   "outputs": [
    {
     "name": "stdout",
     "output_type": "stream",
     "text": [
      "Loading data into airport_list...\n",
      "Data loaded into airport_list\n"
     ]
    }
   ],
   "source": [
    "export_table_to_db(airport_list_df, 'airport_list')"
   ]
  }
 ],
 "metadata": {
  "kernelspec": {
   "display_name": "Python 3 (ipykernel)",
   "language": "python",
   "name": "python3"
  },
  "language_info": {
   "codemirror_mode": {
    "name": "ipython",
    "version": 3
   },
   "file_extension": ".py",
   "mimetype": "text/x-python",
   "name": "python",
   "nbconvert_exporter": "python",
   "pygments_lexer": "ipython3",
   "version": "3.11.5"
  },
  "vscode": {
   "interpreter": {
    "hash": "38d75d0df746d7f75dd34c5d1915af59cb55786647bd68b8d9064425d7680b12"
   }
  }
 },
 "nbformat": 4,
 "nbformat_minor": 2
}
